{
 "cells": [
  {
   "cell_type": "markdown",
   "id": "a008ffce",
   "metadata": {},
   "source": [
    "1)Convert from lambda to def\n",
    "Given a piece of code with a function assigned by lambda, rewrite it into a function\n",
    "assigned by def. The code given would be in string."
   ]
  },
  {
   "cell_type": "code",
   "execution_count": 86,
   "id": "a5fbdf08",
   "metadata": {},
   "outputs": [
    {
     "name": "stdout",
     "output_type": "stream",
     "text": [
      "Lambda Function : ['All', 'inputs', 'are', 'either', 'positive', 'or', 'negative', 'values']\n",
      "Def function : ['All', 'inputs', 'are', 'either', 'positive', 'or', 'negative', 'values']\n"
     ]
    }
   ],
   "source": [
    "input_string = 'All-inputs-are-either-positive-or-negative-values'\n",
    "lamba_fun = lambda x : x.split('-')\n",
    "print('Lambda Function :' , lamba_fun(input_string))\n",
    "\n",
    "def lambda_to_func(x):\n",
    "    return (x.split('-'))\n",
    "print('Def function :' , lambda_to_func(input_string))"
   ]
  },
  {
   "cell_type": "code",
   "execution_count": null,
   "id": "b93bc13d",
   "metadata": {},
   "outputs": [],
   "source": []
  },
  {
   "cell_type": "code",
   "execution_count": null,
   "id": "d747f33e",
   "metadata": {},
   "outputs": [],
   "source": []
  },
  {
   "cell_type": "markdown",
   "id": "04e9b22a",
   "metadata": {},
   "source": [
    "2)Recursion: Underscore-Hash Staircase\n",
    "Create a function that will build a staircase using the underscore _ and hash # symbols.\n",
    "A positive value denotes the staircase's upward direction and downwards for a negative\n",
    "value."
   ]
  },
  {
   "cell_type": "code",
   "execution_count": 114,
   "id": "3932216e",
   "metadata": {},
   "outputs": [],
   "source": [
    " def staircase(n):\n",
    "        if n > 0:\n",
    "            for i in range(n):\n",
    "                #print(i)\n",
    "                for j in range (n):\n",
    "                    #print(j)\n",
    "                    if i+j == n-1:\n",
    "                        print(\"_\"*j+\"#\"*(n-j))\n",
    "        else:\n",
    "            n = abs(n-1)\n",
    "            for i in range(n):\n",
    "                #print(i)\n",
    "                for j in range (n):\n",
    "                    #print(j)\n",
    "                    if i+j == n-1:\n",
    "                        print(\"_\"*(n-j)+\"#\"*(j))"
   ]
  },
  {
   "cell_type": "code",
   "execution_count": 115,
   "id": "6351ac43",
   "metadata": {},
   "outputs": [
    {
     "name": "stdout",
     "output_type": "stream",
     "text": [
      "_______#\n",
      "______##\n",
      "_____###\n",
      "____####\n",
      "___#####\n",
      "__######\n",
      "_#######\n",
      "########\n"
     ]
    }
   ],
   "source": [
    "staircase(8)"
   ]
  },
  {
   "cell_type": "code",
   "execution_count": 116,
   "id": "730fc8bf",
   "metadata": {},
   "outputs": [
    {
     "name": "stdout",
     "output_type": "stream",
     "text": [
      "_########\n",
      "__#######\n",
      "___######\n",
      "____#####\n",
      "_____####\n",
      "______###\n",
      "_______##\n",
      "________#\n",
      "_________\n"
     ]
    }
   ],
   "source": [
    "staircase(-8)"
   ]
  },
  {
   "cell_type": "code",
   "execution_count": null,
   "id": "899ee194",
   "metadata": {},
   "outputs": [],
   "source": []
  },
  {
   "cell_type": "code",
   "execution_count": null,
   "id": "60cbc1da",
   "metadata": {},
   "outputs": [],
   "source": []
  },
  {
   "cell_type": "markdown",
   "id": "a5d06642",
   "metadata": {},
   "source": [
    "4) Sum of Digits\n",
    "Create a function that takes a range of numbers and returns the sum of each digit from\n",
    "start to stop."
   ]
  },
  {
   "cell_type": "code",
   "execution_count": 116,
   "id": "591ffc11",
   "metadata": {},
   "outputs": [],
   "source": [
    "def digits_sum(x,y):\n",
    "    out = []\n",
    "    #pre_out = []\n",
    "    for i in range(x,y+1):\n",
    "        if i < 10:\n",
    "            out.append(i)\n",
    "        else:        \n",
    "\n",
    "            sum_of_digits = sum(int(digit) for digit in str(i))\n",
    "            out.append(sum_of_digits)\n",
    "            #print(sum_of_digits)\n",
    "    fin_out = sum(out)\n",
    "    print(fin_out)"
   ]
  },
  {
   "cell_type": "code",
   "execution_count": 117,
   "id": "e1fd49c7",
   "metadata": {},
   "outputs": [
    {
     "name": "stdout",
     "output_type": "stream",
     "text": [
      "901\n"
     ]
    }
   ],
   "source": [
    "digits_sum(1,100)"
   ]
  },
  {
   "cell_type": "code",
   "execution_count": 118,
   "id": "90057864",
   "metadata": {},
   "outputs": [
    {
     "name": "stdout",
     "output_type": "stream",
     "text": [
      "102\n"
     ]
    }
   ],
   "source": [
    "digits_sum(1,20)"
   ]
  },
  {
   "cell_type": "code",
   "execution_count": null,
   "id": "d8f0d89a",
   "metadata": {},
   "outputs": [],
   "source": []
  },
  {
   "cell_type": "code",
   "execution_count": null,
   "id": "10549e0d",
   "metadata": {},
   "outputs": [],
   "source": []
  },
  {
   "cell_type": "markdown",
   "id": "79d8ee0f",
   "metadata": {},
   "source": [
    "8) Ones and Zeroes\n",
    "Write a function that returns True if every consecutive sequence of ones is followed by\n",
    "a consecutive sequence of zeroes of the same length."
   ]
  },
  {
   "cell_type": "code",
   "execution_count": 67,
   "id": "9a6a9496",
   "metadata": {},
   "outputs": [],
   "source": [
    "def same_length(a):\n",
    "    a = str(a)\n",
    "    x = []\n",
    "    y = []\n",
    "    x.append(a[0])\n",
    "    for i in range(1,len(a)):\n",
    "        if a[i] in x:\n",
    "            x.append(str(i))\n",
    "\n",
    "        else:\n",
    "            c = len(x)\n",
    "            y.append(c)\n",
    "            x.clear()\n",
    "            x.append(a[i])\n",
    "            #print(x)\n",
    "\n",
    "    list_sum = sum(y)\n",
    "    #print(list_sum)\n",
    "    #print(y)\n",
    "    final_out = y.append(len(a)-list_sum)\n",
    "    print(y)\n",
    "\n",
    "    i=0\n",
    "    new_list=[]\n",
    "    while i<len(y):\n",
    "        new_list.append(y[i:i+2])\n",
    "        i += 2\n",
    "    #print(new_list)\n",
    "    output = []\n",
    "    for j in new_list:\n",
    "        if j[0] == j[1]:\n",
    "            output.append('True')\n",
    "            #print('True')\n",
    "        else:\n",
    "            output.append('False')\n",
    "            #print('False')\n",
    "\n",
    "    if 'False' in output:\n",
    "        print('False')\n",
    "\n",
    "    else:\n",
    "        print('True')"
   ]
  },
  {
   "cell_type": "code",
   "execution_count": 68,
   "id": "f17a33d0",
   "metadata": {},
   "outputs": [
    {
     "name": "stdout",
     "output_type": "stream",
     "text": [
      "[2, 2, 3, 3, 1, 1]\n",
      "True\n"
     ]
    }
   ],
   "source": [
    "same_length(\"110011100010\")"
   ]
  },
  {
   "cell_type": "code",
   "execution_count": 69,
   "id": "3215bf6a",
   "metadata": {},
   "outputs": [
    {
     "name": "stdout",
     "output_type": "stream",
     "text": [
      "[1, 1, 1, 1, 1, 1, 2, 1]\n",
      "False\n"
     ]
    }
   ],
   "source": [
    "same_length(\"101010110\")"
   ]
  },
  {
   "cell_type": "code",
   "execution_count": 70,
   "id": "8ee3dfbc",
   "metadata": {},
   "outputs": [
    {
     "name": "stdout",
     "output_type": "stream",
     "text": [
      "[4, 4, 2, 2]\n",
      "True\n"
     ]
    }
   ],
   "source": [
    "same_length(\"111100001100\")"
   ]
  },
  {
   "cell_type": "code",
   "execution_count": null,
   "id": "ab7c2473",
   "metadata": {},
   "outputs": [],
   "source": []
  },
  {
   "cell_type": "code",
   "execution_count": null,
   "id": "756aa811",
   "metadata": {},
   "outputs": [],
   "source": []
  },
  {
   "cell_type": "markdown",
   "id": "dfac86f6",
   "metadata": {},
   "source": [
    "6) Recursion: String Compression from\n",
    "Character Array\n",
    "The function is given an array of characters. Recursively compress the array into a\n",
    "string using the following rules. For each group of consecutively repeating characters:\n",
    "● If the number of repeating characters is one, append the string with only this\n",
    "character.\n",
    "● If the number n of repeating characters x is greater than one, append the string\n",
    "with \"x\" + str(n)."
   ]
  },
  {
   "cell_type": "code",
   "execution_count": 25,
   "id": "a6c3dbf8",
   "metadata": {},
   "outputs": [],
   "source": [
    "def compress(x):\n",
    "    a = []\n",
    "    list_2 = []\n",
    "    list_1 = ','.join(i for i, _ in itertools.groupby(x)).split(',')\n",
    "    a.append(x[0])\n",
    "    \n",
    "    for i in range(1,len(x)):\n",
    "        if x[i] in a:\n",
    "            a.append(x[i])\n",
    "        else:\n",
    "            list_2.append(len(a))\n",
    "            a.clear()\n",
    "            a.append(x[i])\n",
    "    list_2.append(len(a))\n",
    "    \n",
    "    fin_out = []\n",
    "    for i,j in zip(list_1,list_2):\n",
    "        fin_out.append(i)\n",
    "        if j != 1:\n",
    "            fin_out.append(str(j))\n",
    "    #print(fin_out)\n",
    "    \n",
    "    out = ','.join(fin_out)\n",
    "    \n",
    "    out_1 = out.replace(',','')\n",
    "    print(out_1)"
   ]
  },
  {
   "cell_type": "code",
   "execution_count": 26,
   "id": "9b175b1a",
   "metadata": {},
   "outputs": [
    {
     "name": "stdout",
     "output_type": "stream",
     "text": [
      "te14s3h\n"
     ]
    }
   ],
   "source": [
    "compress([\"t\", \"e\", \"e\", \"e\", \"e\", \"e\", \"e\", \"e\", \"e\", \"e\", \"e\", \"e\", \"e\",\n",
    "\"e\", \"e\", \"s\", \"s\", \"s\", \"h\"])"
   ]
  },
  {
   "cell_type": "code",
   "execution_count": 27,
   "id": "f40e3356",
   "metadata": {},
   "outputs": [
    {
     "name": "stdout",
     "output_type": "stream",
     "text": [
      "a2b2c3\n"
     ]
    }
   ],
   "source": [
    "compress([\"a\", \"a\", \"b\", \"b\", \"c\", \"c\", \"c\"])"
   ]
  },
  {
   "cell_type": "code",
   "execution_count": 29,
   "id": "8e2ab6d3",
   "metadata": {},
   "outputs": [
    {
     "name": "stdout",
     "output_type": "stream",
     "text": [
      "a\n"
     ]
    }
   ],
   "source": [
    "compress([\"a\"])"
   ]
  },
  {
   "cell_type": "code",
   "execution_count": 31,
   "id": "aa599c00",
   "metadata": {},
   "outputs": [
    {
     "name": "stdout",
     "output_type": "stream",
     "text": [
      "ab12\n"
     ]
    }
   ],
   "source": [
    "compress([\"a\", \"b\", \"b\", \"b\", \"b\", \"b\", \"b\", \"b\", \"b\", \"b\", \"b\", \"b\",\"b\"])"
   ]
  },
  {
   "cell_type": "code",
   "execution_count": 32,
   "id": "0ea5ecd2",
   "metadata": {},
   "outputs": [
    {
     "name": "stdout",
     "output_type": "stream",
     "text": [
      "a3b2a2\n"
     ]
    }
   ],
   "source": [
    "compress([\"a\", \"a\", \"a\", \"b\", \"b\", \"a\", \"a\"])"
   ]
  },
  {
   "cell_type": "code",
   "execution_count": null,
   "id": "c5406a5e",
   "metadata": {},
   "outputs": [],
   "source": []
  },
  {
   "cell_type": "code",
   "execution_count": null,
   "id": "7db99a63",
   "metadata": {},
   "outputs": [],
   "source": []
  },
  {
   "cell_type": "code",
   "execution_count": null,
   "id": "265d5992",
   "metadata": {},
   "outputs": [],
   "source": []
  },
  {
   "cell_type": "markdown",
   "id": "58664f66",
   "metadata": {},
   "source": [
    "7) Free Range\n",
    "Create a function which converts an ordered number list into a list of ranges\n",
    "(represented as strings). Note how some lists have some numbers missing."
   ]
  },
  {
   "cell_type": "code",
   "execution_count": 148,
   "id": "701bfcd5",
   "metadata": {},
   "outputs": [],
   "source": [
    "from itertools import groupby\n",
    "from operator import itemgetter\n",
    "\n",
    "def numbers_to_ranges(data):\n",
    "    ranges =[]\n",
    "\n",
    "    for k,g in groupby(enumerate(data),lambda x:x[0]-x[1]):\n",
    "        group = (map(itemgetter(1),g))\n",
    "        group = list(map(int,group))\n",
    "        ranges.append((group[0],group[-1]))\n",
    "\n",
    "    output = []\n",
    "    for i in ranges:\n",
    "        val_1 = str(i[0])\n",
    "        val_2 = str(i[1])\n",
    "        out = (val_1 + '-' + val_2)\n",
    "        #print(str(out))\n",
    "        output.append(str(out))\n",
    "    print(output)\n"
   ]
  },
  {
   "cell_type": "code",
   "execution_count": 149,
   "id": "b41c9b7a",
   "metadata": {},
   "outputs": [
    {
     "name": "stdout",
     "output_type": "stream",
     "text": [
      "['1-4', '99-100']\n"
     ]
    }
   ],
   "source": [
    "numbers_to_ranges([1, 2, 3, 4, 99, 100])"
   ]
  },
  {
   "cell_type": "code",
   "execution_count": 150,
   "id": "643437d5",
   "metadata": {},
   "outputs": [
    {
     "name": "stdout",
     "output_type": "stream",
     "text": [
      "['3-5', '10-12']\n"
     ]
    }
   ],
   "source": [
    "numbers_to_ranges([3, 4, 5, 10, 11, 12])"
   ]
  },
  {
   "cell_type": "code",
   "execution_count": 151,
   "id": "52c1b416",
   "metadata": {},
   "outputs": [
    {
     "name": "stdout",
     "output_type": "stream",
     "text": [
      "['1-1', '3-8']\n"
     ]
    }
   ],
   "source": [
    "numbers_to_ranges([1, 3, 4, 5, 6, 7, 8])"
   ]
  },
  {
   "cell_type": "code",
   "execution_count": null,
   "id": "451b3a0e",
   "metadata": {},
   "outputs": [],
   "source": []
  },
  {
   "cell_type": "markdown",
   "id": "bf225f50",
   "metadata": {},
   "source": [
    "# Completed 6 Questions by own and tried other two questions bt unable to get the output"
   ]
  },
  {
   "cell_type": "code",
   "execution_count": null,
   "id": "a0901933",
   "metadata": {},
   "outputs": [],
   "source": []
  }
 ],
 "metadata": {
  "kernelspec": {
   "display_name": "Python 3 (ipykernel)",
   "language": "python",
   "name": "python3"
  },
  "language_info": {
   "codemirror_mode": {
    "name": "ipython",
    "version": 3
   },
   "file_extension": ".py",
   "mimetype": "text/x-python",
   "name": "python",
   "nbconvert_exporter": "python",
   "pygments_lexer": "ipython3",
   "version": "3.8.10"
  }
 },
 "nbformat": 4,
 "nbformat_minor": 5
}
