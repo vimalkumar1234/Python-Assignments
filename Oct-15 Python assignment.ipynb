{
 "cells": [
  {
   "cell_type": "code",
   "execution_count": 201,
   "id": "e5aea7b7",
   "metadata": {},
   "outputs": [],
   "source": [
    "import re"
   ]
  },
  {
   "cell_type": "markdown",
   "id": "a0618310",
   "metadata": {},
   "source": [
    "# Float Number"
   ]
  },
  {
   "cell_type": "code",
   "execution_count": 259,
   "id": "7ca585cd",
   "metadata": {},
   "outputs": [
    {
     "name": "stdout",
     "output_type": "stream",
     "text": [
      "12.12\n"
     ]
    },
    {
     "data": {
      "text/plain": [
       "True"
      ]
     },
     "execution_count": 259,
     "metadata": {},
     "output_type": "execute_result"
    }
   ],
   "source": [
    "num = input('')\n",
    "pattern = '[+-]?\\d*\\.\\d+$'\n",
    "bool(re.match(pattern,num))"
   ]
  },
  {
   "cell_type": "code",
   "execution_count": 260,
   "id": "71c4e49d",
   "metadata": {},
   "outputs": [
    {
     "name": "stdout",
     "output_type": "stream",
     "text": [
      "12.\n"
     ]
    },
    {
     "data": {
      "text/plain": [
       "False"
      ]
     },
     "execution_count": 260,
     "metadata": {},
     "output_type": "execute_result"
    }
   ],
   "source": [
    "num = input('')\n",
    "pattern = '[+-]?\\d*\\.\\d+$'\n",
    "bool(re.match(pattern,num))"
   ]
  },
  {
   "cell_type": "code",
   "execution_count": 261,
   "id": "11ab1e2e",
   "metadata": {},
   "outputs": [
    {
     "name": "stdout",
     "output_type": "stream",
     "text": [
      ".1\n"
     ]
    },
    {
     "data": {
      "text/plain": [
       "True"
      ]
     },
     "execution_count": 261,
     "metadata": {},
     "output_type": "execute_result"
    }
   ],
   "source": [
    "num = input('')\n",
    "pattern = '[+-]?\\d*\\.\\d+$'\n",
    "bool(re.match(pattern,num))"
   ]
  },
  {
   "cell_type": "code",
   "execution_count": 262,
   "id": "792c051d",
   "metadata": {},
   "outputs": [
    {
     "name": "stdout",
     "output_type": "stream",
     "text": [
      "-.1\n"
     ]
    },
    {
     "data": {
      "text/plain": [
       "True"
      ]
     },
     "execution_count": 262,
     "metadata": {},
     "output_type": "execute_result"
    }
   ],
   "source": [
    "num = input('')\n",
    "pattern = '[+-]?\\d*\\.\\d+$'\n",
    "bool(re.match(pattern,num))"
   ]
  },
  {
   "cell_type": "code",
   "execution_count": 263,
   "id": "04c6b268",
   "metadata": {},
   "outputs": [
    {
     "name": "stdout",
     "output_type": "stream",
     "text": [
      "+4.4\n"
     ]
    },
    {
     "data": {
      "text/plain": [
       "True"
      ]
     },
     "execution_count": 263,
     "metadata": {},
     "output_type": "execute_result"
    }
   ],
   "source": [
    "num = input('')\n",
    "pattern = '[+-]?\\d*\\.\\d+$'\n",
    "bool(re.match(pattern,num))"
   ]
  },
  {
   "cell_type": "code",
   "execution_count": 264,
   "id": "b973dd46",
   "metadata": {},
   "outputs": [
    {
     "name": "stdout",
     "output_type": "stream",
     "text": [
      "+4\n"
     ]
    },
    {
     "data": {
      "text/plain": [
       "False"
      ]
     },
     "execution_count": 264,
     "metadata": {},
     "output_type": "execute_result"
    }
   ],
   "source": [
    "num = input('')\n",
    "pattern = '[+-]?\\d*\\.\\d+$'\n",
    "bool(re.match(pattern,num))"
   ]
  },
  {
   "cell_type": "code",
   "execution_count": 265,
   "id": "c9427097",
   "metadata": {},
   "outputs": [
    {
     "name": "stdout",
     "output_type": "stream",
     "text": [
      "+4.4av\n"
     ]
    },
    {
     "data": {
      "text/plain": [
       "False"
      ]
     },
     "execution_count": 265,
     "metadata": {},
     "output_type": "execute_result"
    }
   ],
   "source": [
    "num = input('')\n",
    "pattern = '[+-]?\\d*\\.\\d+$'\n",
    "bool(re.match(pattern,num))\n"
   ]
  },
  {
   "cell_type": "code",
   "execution_count": null,
   "id": "b032b06a",
   "metadata": {},
   "outputs": [],
   "source": []
  },
  {
   "cell_type": "markdown",
   "id": "421c084b",
   "metadata": {},
   "source": [
    "# Find the Times"
   ]
  },
  {
   "cell_type": "code",
   "execution_count": 266,
   "id": "7a5f508b",
   "metadata": {},
   "outputs": [],
   "source": [
    "txt1 = \"Breakfast at 09:00 in the room 123:456.\"\n",
    "txt2 = \"The incident took place last Wednesday at 00:56:41.\"\n",
    "txt3 = \"We will have two meetings: from 10:30 to 11:00 and from 11:45 to 11:75.\""
   ]
  },
  {
   "cell_type": "code",
   "execution_count": 267,
   "id": "8a71f2a0",
   "metadata": {},
   "outputs": [],
   "source": [
    "pattern = r\"\\s([0-2]\\d(?:\\:[0-5]\\d){1,2})\\b(?!\\:)\""
   ]
  },
  {
   "cell_type": "code",
   "execution_count": 268,
   "id": "c79bbe12",
   "metadata": {},
   "outputs": [
    {
     "data": {
      "text/plain": [
       "['09:00']"
      ]
     },
     "execution_count": 268,
     "metadata": {},
     "output_type": "execute_result"
    }
   ],
   "source": [
    "re.findall(pattern,txt1)"
   ]
  },
  {
   "cell_type": "code",
   "execution_count": 269,
   "id": "53ba6853",
   "metadata": {},
   "outputs": [
    {
     "data": {
      "text/plain": [
       "['00:56:41']"
      ]
     },
     "execution_count": 269,
     "metadata": {},
     "output_type": "execute_result"
    }
   ],
   "source": [
    "re.findall(pattern, txt2)"
   ]
  },
  {
   "cell_type": "code",
   "execution_count": 270,
   "id": "7f0cd367",
   "metadata": {},
   "outputs": [
    {
     "data": {
      "text/plain": [
       "['10:30', '11:00', '11:45']"
      ]
     },
     "execution_count": 270,
     "metadata": {},
     "output_type": "execute_result"
    }
   ],
   "source": [
    "re.findall(pattern,txt3)"
   ]
  },
  {
   "cell_type": "code",
   "execution_count": null,
   "id": "3c004b6e",
   "metadata": {},
   "outputs": [],
   "source": []
  },
  {
   "cell_type": "code",
   "execution_count": null,
   "id": "354d9e76",
   "metadata": {},
   "outputs": [],
   "source": []
  },
  {
   "cell_type": "code",
   "execution_count": null,
   "id": "0524bae6",
   "metadata": {},
   "outputs": [],
   "source": []
  },
  {
   "cell_type": "markdown",
   "id": "0f5158de",
   "metadata": {},
   "source": [
    "# Find the Numbers"
   ]
  },
  {
   "cell_type": "code",
   "execution_count": 225,
   "id": "c0d9a773",
   "metadata": {},
   "outputs": [],
   "source": [
    "txt = \" 123.456 2 +7 -88  -.25 9.10.11 -4. +-34 -0.6 --5 \""
   ]
  },
  {
   "cell_type": "code",
   "execution_count": 227,
   "id": "3f403250",
   "metadata": {},
   "outputs": [
    {
     "name": "stdout",
     "output_type": "stream",
     "text": [
      "['2', '+7', '-88']\n"
     ]
    }
   ],
   "source": [
    "integers_regex = re.findall('(?<=\\s)[+-]?\\d+(?=\\s)',txt)\n",
    "print(integers_regex)"
   ]
  },
  {
   "cell_type": "code",
   "execution_count": 231,
   "id": "87d72e69",
   "metadata": {},
   "outputs": [
    {
     "name": "stdout",
     "output_type": "stream",
     "text": [
      "['123.456', '-.25', '-0.6']\n"
     ]
    }
   ],
   "source": [
    "float_regex = re.findall('(?<=\\s)[+-]?\\d*\\.\\d+(?=\\s)',txt)\n",
    "print(float_regex)"
   ]
  },
  {
   "cell_type": "code",
   "execution_count": 232,
   "id": "1cee35ae",
   "metadata": {},
   "outputs": [
    {
     "name": "stdout",
     "output_type": "stream",
     "text": [
      "['123.456', '2', '+7']\n"
     ]
    }
   ],
   "source": [
    "positive_regex = re.findall('(?<=\\s)[+]?\\d*\\.*\\d+(?=\\s)',txt)\n",
    "print(positive_regex)"
   ]
  },
  {
   "cell_type": "code",
   "execution_count": 236,
   "id": "2e8331fd",
   "metadata": {},
   "outputs": [
    {
     "name": "stdout",
     "output_type": "stream",
     "text": [
      "['-88', '-.25', '-0.6']\n"
     ]
    }
   ],
   "source": [
    "negative_regex = re.findall('(?<=\\s)\\-\\d*\\.*\\d+(?=\\s)',txt)\n",
    "print(negative_regex)"
   ]
  },
  {
   "cell_type": "code",
   "execution_count": 237,
   "id": "16388e85",
   "metadata": {},
   "outputs": [
    {
     "name": "stdout",
     "output_type": "stream",
     "text": [
      "['123.456', '2', '+7', '-88', '-.25', '-0.6']\n"
     ]
    }
   ],
   "source": [
    "numbers_regex = re.findall('(?<=\\s)[+-]?\\d*\\.*\\d+(?=\\s)',txt)\n",
    "print(numbers_regex)"
   ]
  },
  {
   "cell_type": "code",
   "execution_count": null,
   "id": "1df8f611",
   "metadata": {},
   "outputs": [],
   "source": []
  },
  {
   "cell_type": "markdown",
   "id": "5f5f7cd6",
   "metadata": {},
   "source": [
    "# Distinct Digits"
   ]
  },
  {
   "cell_type": "code",
   "execution_count": 238,
   "id": "77a7763d",
   "metadata": {},
   "outputs": [],
   "source": [
    "pattern = r'^(?!.*(.).*\\1)\\d*$'"
   ]
  },
  {
   "cell_type": "code",
   "execution_count": 239,
   "id": "5badaf91",
   "metadata": {},
   "outputs": [
    {
     "data": {
      "text/plain": [
       "True"
      ]
     },
     "execution_count": 239,
     "metadata": {},
     "output_type": "execute_result"
    }
   ],
   "source": [
    "bool(re.match(pattern, \"123\"))"
   ]
  },
  {
   "cell_type": "code",
   "execution_count": 240,
   "id": "b37885c0",
   "metadata": {},
   "outputs": [
    {
     "data": {
      "text/plain": [
       "False"
      ]
     },
     "execution_count": 240,
     "metadata": {},
     "output_type": "execute_result"
    }
   ],
   "source": [
    "bool(re.match(pattern, \"112233\"))"
   ]
  },
  {
   "cell_type": "code",
   "execution_count": 241,
   "id": "df0fb286",
   "metadata": {},
   "outputs": [
    {
     "data": {
      "text/plain": [
       "True"
      ]
     },
     "execution_count": 241,
     "metadata": {},
     "output_type": "execute_result"
    }
   ],
   "source": [
    "bool(re.match(pattern, \"1025\"))"
   ]
  },
  {
   "cell_type": "code",
   "execution_count": null,
   "id": "076774e6",
   "metadata": {},
   "outputs": [],
   "source": []
  },
  {
   "cell_type": "markdown",
   "id": "88311eb8",
   "metadata": {},
   "source": [
    "# Find the Numbers"
   ]
  },
  {
   "cell_type": "code",
   "execution_count": 271,
   "id": "957b2741",
   "metadata": {},
   "outputs": [],
   "source": [
    "txt1 = \"\"\n",
    "txt2 = \"This is not an empty string.\""
   ]
  },
  {
   "cell_type": "code",
   "execution_count": 279,
   "id": "8acf3d8c",
   "metadata": {},
   "outputs": [],
   "source": [
    "nothing = \"^$\""
   ]
  },
  {
   "cell_type": "code",
   "execution_count": 280,
   "id": "f43eff0f",
   "metadata": {},
   "outputs": [
    {
     "data": {
      "text/plain": [
       "True"
      ]
     },
     "execution_count": 280,
     "metadata": {},
     "output_type": "execute_result"
    }
   ],
   "source": [
    "bool(re.match(nothing, txt1))"
   ]
  },
  {
   "cell_type": "code",
   "execution_count": 281,
   "id": "70ada020",
   "metadata": {},
   "outputs": [
    {
     "data": {
      "text/plain": [
       "False"
      ]
     },
     "execution_count": 281,
     "metadata": {},
     "output_type": "execute_result"
    }
   ],
   "source": [
    "bool(re.match(nothing, txt2))"
   ]
  },
  {
   "cell_type": "code",
   "execution_count": 282,
   "id": "b6670e3a",
   "metadata": {},
   "outputs": [
    {
     "data": {
      "text/plain": [
       "['']"
      ]
     },
     "execution_count": 282,
     "metadata": {},
     "output_type": "execute_result"
    }
   ],
   "source": [
    "re.findall(nothing, txt1)"
   ]
  },
  {
   "cell_type": "code",
   "execution_count": 283,
   "id": "d25e49e3",
   "metadata": {},
   "outputs": [
    {
     "data": {
      "text/plain": [
       "[]"
      ]
     },
     "execution_count": 283,
     "metadata": {},
     "output_type": "execute_result"
    }
   ],
   "source": [
    "re.findall(nothing, txt2)"
   ]
  },
  {
   "cell_type": "code",
   "execution_count": 289,
   "id": "7b546dcb",
   "metadata": {},
   "outputs": [],
   "source": [
    "anything = \"^$|.+\""
   ]
  },
  {
   "cell_type": "code",
   "execution_count": 290,
   "id": "3421ce8c",
   "metadata": {},
   "outputs": [
    {
     "data": {
      "text/plain": [
       "True"
      ]
     },
     "execution_count": 290,
     "metadata": {},
     "output_type": "execute_result"
    }
   ],
   "source": [
    "bool(re.match(anything, txt1))"
   ]
  },
  {
   "cell_type": "code",
   "execution_count": 291,
   "id": "f2ac80a5",
   "metadata": {},
   "outputs": [
    {
     "data": {
      "text/plain": [
       "True"
      ]
     },
     "execution_count": 291,
     "metadata": {},
     "output_type": "execute_result"
    }
   ],
   "source": [
    "bool(re.match(anything, txt2))"
   ]
  },
  {
   "cell_type": "code",
   "execution_count": 292,
   "id": "7165a4da",
   "metadata": {},
   "outputs": [
    {
     "data": {
      "text/plain": [
       "['']"
      ]
     },
     "execution_count": 292,
     "metadata": {},
     "output_type": "execute_result"
    }
   ],
   "source": [
    "re.findall(anything, txt1)"
   ]
  },
  {
   "cell_type": "code",
   "execution_count": 293,
   "id": "b15f4f97",
   "metadata": {},
   "outputs": [
    {
     "data": {
      "text/plain": [
       "['This is not an empty string.']"
      ]
     },
     "execution_count": 293,
     "metadata": {},
     "output_type": "execute_result"
    }
   ],
   "source": [
    "re.findall(anything, txt2)"
   ]
  },
  {
   "cell_type": "code",
   "execution_count": 296,
   "id": "b87af419",
   "metadata": {},
   "outputs": [],
   "source": [
    "something = '.+'"
   ]
  },
  {
   "cell_type": "code",
   "execution_count": 297,
   "id": "0b6df526",
   "metadata": {},
   "outputs": [
    {
     "data": {
      "text/plain": [
       "False"
      ]
     },
     "execution_count": 297,
     "metadata": {},
     "output_type": "execute_result"
    }
   ],
   "source": [
    "bool(re.match(something, txt1))"
   ]
  },
  {
   "cell_type": "code",
   "execution_count": 298,
   "id": "2747453c",
   "metadata": {},
   "outputs": [
    {
     "data": {
      "text/plain": [
       "True"
      ]
     },
     "execution_count": 298,
     "metadata": {},
     "output_type": "execute_result"
    }
   ],
   "source": [
    "bool(re.match(something, txt2))"
   ]
  },
  {
   "cell_type": "code",
   "execution_count": 299,
   "id": "44be6764",
   "metadata": {},
   "outputs": [
    {
     "data": {
      "text/plain": [
       "[]"
      ]
     },
     "execution_count": 299,
     "metadata": {},
     "output_type": "execute_result"
    }
   ],
   "source": [
    "re.findall(something, txt1)"
   ]
  },
  {
   "cell_type": "code",
   "execution_count": 300,
   "id": "caf637d0",
   "metadata": {},
   "outputs": [
    {
     "data": {
      "text/plain": [
       "['This is not an empty string.']"
      ]
     },
     "execution_count": 300,
     "metadata": {},
     "output_type": "execute_result"
    }
   ],
   "source": [
    "re.findall(something, txt2)"
   ]
  },
  {
   "cell_type": "code",
   "execution_count": null,
   "id": "4ca9fb48",
   "metadata": {},
   "outputs": [],
   "source": []
  }
 ],
 "metadata": {
  "kernelspec": {
   "display_name": "Python 3 (ipykernel)",
   "language": "python",
   "name": "python3"
  },
  "language_info": {
   "codemirror_mode": {
    "name": "ipython",
    "version": 3
   },
   "file_extension": ".py",
   "mimetype": "text/x-python",
   "name": "python",
   "nbconvert_exporter": "python",
   "pygments_lexer": "ipython3",
   "version": "3.8.10"
  }
 },
 "nbformat": 4,
 "nbformat_minor": 5
}
