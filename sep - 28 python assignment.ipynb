{
 "cells": [
  {
   "cell_type": "markdown",
   "id": "f5acb7c6",
   "metadata": {},
   "source": [
    "1) Write a function that returns the longest non-repeating substring for a string input."
   ]
  },
  {
   "cell_type": "code",
   "execution_count": 10,
   "id": "9d8100cb",
   "metadata": {},
   "outputs": [],
   "source": [
    "def longest_nonrepeating_substring(x):\n",
    "    list_1 = []\n",
    "    for i in x:\n",
    "        if i not in list_1:\n",
    "            list_1.append(i)\n",
    "    out = ''.join(list_1)\n",
    "    print(out)       \n",
    "            \n",
    "\n",
    "    "
   ]
  },
  {
   "cell_type": "code",
   "execution_count": 12,
   "id": "bda5c761",
   "metadata": {},
   "outputs": [
    {
     "name": "stdout",
     "output_type": "stream",
     "text": [
      "abcdh\n"
     ]
    }
   ],
   "source": [
    "longest_nonrepeating_substring('aabcbadh')"
   ]
  },
  {
   "cell_type": "code",
   "execution_count": 13,
   "id": "01c8d092",
   "metadata": {},
   "outputs": [
    {
     "name": "stdout",
     "output_type": "stream",
     "text": [
      "abc\n"
     ]
    }
   ],
   "source": [
    "longest_nonrepeating_substring('abcabcbb')"
   ]
  },
  {
   "cell_type": "code",
   "execution_count": null,
   "id": "6dbd99f4",
   "metadata": {},
   "outputs": [],
   "source": []
  },
  {
   "cell_type": "code",
   "execution_count": null,
   "id": "70c2742e",
   "metadata": {},
   "outputs": [],
   "source": []
  },
  {
   "cell_type": "markdown",
   "id": "8e36f6c6",
   "metadata": {},
   "source": [
    "3) Write a recursive function that will return the longest word in a sentence. In cases\n",
    "where more than one word is found, return the first one."
   ]
  },
  {
   "cell_type": "code",
   "execution_count": 252,
   "id": "8a12ed00",
   "metadata": {},
   "outputs": [],
   "source": [
    "def find_longest(word):\n",
    "    w_split = word.split(' ')\n",
    "    #print(w_split)\n",
    "    out = max(w_split , key = len)\n",
    "    print(out)\n",
    "    "
   ]
  },
  {
   "cell_type": "code",
   "execution_count": 253,
   "id": "76e3296d",
   "metadata": {},
   "outputs": [
    {
     "name": "stdout",
     "output_type": "stream",
     "text": [
      "perpetually\n"
     ]
    }
   ],
   "source": [
    "word = \"I will and ever will be gratefully and perpetually loving you Tesh!\"\n",
    "find_longest(word)"
   ]
  },
  {
   "cell_type": "code",
   "execution_count": 254,
   "id": "c7c2c181",
   "metadata": {},
   "outputs": [
    {
     "name": "stdout",
     "output_type": "stream",
     "text": [
      "Forgetfulness\n"
     ]
    }
   ],
   "source": [
    "word = \"Forgetfulness is by all means powerless!\"\n",
    "find_longest(word)"
   ]
  },
  {
   "cell_type": "code",
   "execution_count": null,
   "id": "e8b009f0",
   "metadata": {},
   "outputs": [],
   "source": []
  },
  {
   "cell_type": "markdown",
   "id": "b198f2c8",
   "metadata": {},
   "source": [
    "14) You are given a list which may contain sublists. Your task is to find the depth of the\n",
    "deepest sublist."
   ]
  },
  {
   "cell_type": "code",
   "execution_count": 248,
   "id": "0f445740",
   "metadata": {},
   "outputs": [],
   "source": [
    "def depth(nested):\n",
    "    instring = False\n",
    "    count = 0\n",
    "    depthlist = []\n",
    "    for char in repr(nested):\n",
    "        if char == '\"' or char == \"'\":\n",
    "            instring = not instring\n",
    "        elif not instring and ( char == \"[\" or char == \")\" ):\n",
    "            count += 1\n",
    "        elif not instring and ( char == \"]\" or char == \")\" ):\n",
    "            count -= 1\n",
    "        depthlist.append(count)\n",
    "    return(max(depthlist))"
   ]
  },
  {
   "cell_type": "code",
   "execution_count": 249,
   "id": "e10d6e87",
   "metadata": {},
   "outputs": [
    {
     "data": {
      "text/plain": [
       "10"
      ]
     },
     "execution_count": 249,
     "metadata": {},
     "output_type": "execute_result"
    }
   ],
   "source": [
    "depth(nested = [[[[[[[[[[1]]]]]]]]]])"
   ]
  },
  {
   "cell_type": "code",
   "execution_count": null,
   "id": "af4d67fc",
   "metadata": {},
   "outputs": [],
   "source": []
  },
  {
   "cell_type": "code",
   "execution_count": null,
   "id": "1671524d",
   "metadata": {},
   "outputs": [],
   "source": []
  },
  {
   "cell_type": "code",
   "execution_count": null,
   "id": "f88c372b",
   "metadata": {},
   "outputs": [],
   "source": []
  },
  {
   "cell_type": "markdown",
   "id": "998eaf3f",
   "metadata": {},
   "source": [
    "7) Create a function which replaces all instances of \"nts\" with \"nce\" and vice versa\n",
    "if they are at the end of a word."
   ]
  },
  {
   "cell_type": "code",
   "execution_count": 220,
   "id": "ec4acf6b",
   "metadata": {},
   "outputs": [],
   "source": [
    "def switcheroo(y):\n",
    "    x = y.split(' ')\n",
    "    aa_1 = []\n",
    "    for i in x:\n",
    "        if 'nce' in i:\n",
    "            aa = i.replace('nce','nts')\n",
    "            aa_1.append(aa)\n",
    "        elif 'nts' in i:\n",
    "            aa = i.replace('nts','nce')\n",
    "            aa_1.append(aa)\n",
    "        else:\n",
    "            aa_1.append(i)\n",
    "    print(aa_1)\n",
    "    out = ' '.join(aa_1)\n",
    "    print(out)\n",
    "    "
   ]
  },
  {
   "cell_type": "code",
   "execution_count": 222,
   "id": "f28d5249",
   "metadata": {},
   "outputs": [
    {
     "name": "stdout",
     "output_type": "stream",
     "text": [
      "['While', 'he', 'rance,', 'I', 'fall', 'into', 'a', 'trants...']\n",
      "While he rance, I fall into a trants...\n"
     ]
    }
   ],
   "source": [
    "y = \"While he rants, I fall into a trance...\"\n",
    "\n",
    "switcheroo(y)"
   ]
  },
  {
   "cell_type": "code",
   "execution_count": null,
   "id": "c0dabdf5",
   "metadata": {},
   "outputs": [],
   "source": []
  },
  {
   "cell_type": "code",
   "execution_count": null,
   "id": "71627ce5",
   "metadata": {},
   "outputs": [],
   "source": []
  },
  {
   "cell_type": "code",
   "execution_count": null,
   "id": "7c4e3d05",
   "metadata": {},
   "outputs": [],
   "source": []
  },
  {
   "cell_type": "markdown",
   "id": "4773dfe9",
   "metadata": {},
   "source": [
    "12) Mubashir is not good in python programming. By mistake, he swapped keys and\n",
    "data values in the dictionary.\n",
    "Given a dictionary, return a dictionary with the original values and the list of keys. See\n",
    "below example for a better understanding:"
   ]
  },
  {
   "cell_type": "code",
   "execution_count": 206,
   "id": "0497f8fb",
   "metadata": {},
   "outputs": [],
   "source": [
    "mydict = {\"Mubashir\": \"Name\",\"31\": \"Age\",\"Male\": \"Sex\",\"Pilot\": \"Job\",\n",
    "          \"Matt\": \"Name\",\"40\": \"Age\",\"Programmer\": \"Job\"}"
   ]
  },
  {
   "cell_type": "code",
   "execution_count": 207,
   "id": "5970d651",
   "metadata": {},
   "outputs": [],
   "source": [
    "rev_dict = {}\n",
    "for value in mydict.values():\n",
    "    rev_dict[value] = []\n",
    "    for key in mydict.keys():\n",
    "        if mydict[key] == value:\n",
    "            if key not in rev_dict[value]: \n",
    "                rev_dict[value].append(key)"
   ]
  },
  {
   "cell_type": "code",
   "execution_count": 208,
   "id": "dfafec9a",
   "metadata": {},
   "outputs": [
    {
     "data": {
      "text/plain": [
       "{'Name': ['Mubashir', 'Matt'],\n",
       " 'Age': ['31', '40'],\n",
       " 'Sex': ['Male'],\n",
       " 'Job': ['Pilot', 'Programmer']}"
      ]
     },
     "execution_count": 208,
     "metadata": {},
     "output_type": "execute_result"
    }
   ],
   "source": [
    "rev_dict"
   ]
  },
  {
   "cell_type": "code",
   "execution_count": null,
   "id": "e59688f2",
   "metadata": {},
   "outputs": [],
   "source": []
  },
  {
   "cell_type": "code",
   "execution_count": null,
   "id": "33fbd45a",
   "metadata": {},
   "outputs": [],
   "source": []
  },
  {
   "cell_type": "markdown",
   "id": "7dcc78f5",
   "metadata": {},
   "source": [
    "12) Mubashir is not good in python programming. By mistake, he swapped keys and\n",
    "data values in the dictionary.\n",
    "Given a dictionary, return a dictionary with the original values and the list of keys. See\n",
    "below example for a better understanding:"
   ]
  },
  {
   "cell_type": "code",
   "execution_count": 228,
   "id": "8cdf1c16",
   "metadata": {},
   "outputs": [
    {
     "name": "stdout",
     "output_type": "stream",
     "text": [
      "garden_feast\n",
      "meat_festival\n",
      "['beef', 'meatball', 'bacon']\n",
      "['spinach', 'olives', 'mushroom']\n",
      "1\n",
      "2\n"
     ]
    }
   ],
   "source": [
    "class Pizza():\n",
    "    order_num = 0\n",
    "\n",
    "\n",
    "\n",
    "    def __init__(self,ingredients):\n",
    "        Pizza.order_num += 1\n",
    "        self.order_number = Pizza.order_num\n",
    "        self.ingredients = ingredients\n",
    "        self.pizza_type = \", \".join(ingredients)\n",
    "        #print(self.pizza_type)\n",
    "        self.ready_made_pizza = {\n",
    "        \"hawaiian\": [\"ham\", \"pineapple\"],\n",
    "        \"meat_festival\": [\"beef\", \"meatball\", \"bacon\"],\n",
    "        \"garden_feast\": [\"spinach\", \"olives\", \"mushroom\"]\n",
    "        }\n",
    "        for key in self.ready_made_pizza:\n",
    "            if self.ingredients == self.ready_made_pizza[key]:\n",
    "                self.pizza_type = key\n",
    "\n",
    "p1=Pizza([\"spinach\", \"olives\", \"mushroom\"])\n",
    "p2=Pizza([\"beef\", \"meatball\", \"bacon\"])\n",
    "print(p1.pizza_type)\n",
    "print(p2.pizza_type)\n",
    "print(p2.ingredients)\n",
    "print(p1.ingredients)\n",
    "print(p1.order_number)\n",
    "print(p2.order_number)"
   ]
  },
  {
   "cell_type": "code",
   "execution_count": null,
   "id": "c0a276ca",
   "metadata": {},
   "outputs": [],
   "source": []
  },
  {
   "cell_type": "markdown",
   "id": "4a6fc84c",
   "metadata": {},
   "source": [
    "4) In this challenge, you have to add a variable amount of hours, minutes and seconds to a\n",
    "given time, obtaining, in turn, a new adjusted time."
   ]
  },
  {
   "cell_type": "code",
   "execution_count": 10,
   "id": "e1689a09",
   "metadata": {},
   "outputs": [
    {
     "name": "stdout",
     "output_type": "stream",
     "text": [
      "[4, 30, 10]\n"
     ]
    }
   ],
   "source": [
    "def time_adjust(now,hrs,mins,sec):\n",
    "    current = [int(i) for i in now.split(\":\")]\n",
    "    values = [hrs,mins,sec]\n",
    "    limit = (24,60,60)\n",
    "    for i in range(0,3):\n",
    "        current[i] = current[i] + values[i]\n",
    "        if current[i]>limit[i]:\n",
    "            current[i]-=limit[i]\n",
    "            current[i] = str(current[i])\n",
    "    return(current)\n",
    "\n",
    "print(time_adjust(\"01:00:00\", 3, 30, 10))"
   ]
  },
  {
   "cell_type": "code",
   "execution_count": null,
   "id": "9f9fd19c",
   "metadata": {},
   "outputs": [],
   "source": []
  },
  {
   "cell_type": "code",
   "execution_count": null,
   "id": "e2afa801",
   "metadata": {},
   "outputs": [],
   "source": []
  },
  {
   "cell_type": "code",
   "execution_count": null,
   "id": "55a26395",
   "metadata": {},
   "outputs": [],
   "source": []
  },
  {
   "cell_type": "code",
   "execution_count": null,
   "id": "42027c25",
   "metadata": {},
   "outputs": [],
   "source": []
  },
  {
   "cell_type": "code",
   "execution_count": null,
   "id": "c44edc18",
   "metadata": {},
   "outputs": [],
   "source": []
  },
  {
   "cell_type": "markdown",
   "id": "f8dae04d",
   "metadata": {},
   "source": [
    "5) An out-shuffle, also known as an out Faro shuffle or a perfect shuffle, is a controlled\n",
    "method for shuffling playing cards. It is performed by splitting the deck into two equalhalves and interleaving them together perfectly, with the condition that the top card of\n",
    "the deck remains in place."
   ]
  },
  {
   "cell_type": "code",
   "execution_count": 12,
   "id": "73adde43",
   "metadata": {},
   "outputs": [
    {
     "name": "stdout",
     "output_type": "stream",
     "text": [
      "Length of the deck of cards | Perfect shuffles needed to obtain the same deck back\n",
      "8 | 3\n",
      "14 | 12\n",
      "52 | 8\n"
     ]
    }
   ],
   "source": [
    "import doctest\n",
    "import random\n",
    "\n",
    "\n",
    "def flatten(lst):\n",
    "    \"\"\"\n",
    "    >>> flatten([[3,2],[1,2]])\n",
    "    [3, 2, 1, 2]\n",
    "    \"\"\"\n",
    "    return [i for sublst in lst for i in sublst]\n",
    "\n",
    "def magic_shuffle(deck):\n",
    "    \"\"\"\n",
    "    >>> magic_shuffle([1,2,3,4])\n",
    "    [1, 3, 2, 4]\n",
    "    \"\"\"\n",
    "    half = len(deck) // 2\n",
    "    return flatten(zip(deck[:half], deck[half:]))\n",
    "\n",
    "def after_how_many_is_equal(shuffle_type,start,end):\n",
    "    \"\"\"\n",
    "    >>> after_how_many_is_equal(magic_shuffle,[1,2,3,4],[1,2,3,4])\n",
    "    2\n",
    "    \"\"\"\n",
    "\n",
    "    start = shuffle_type(start)\n",
    "    counter = 1\n",
    "    while start != end:\n",
    "        start = shuffle_type(start)\n",
    "        counter += 1\n",
    "    return counter\n",
    "\n",
    "def main():\n",
    "    doctest.testmod()\n",
    "\n",
    "    print(\"Length of the deck of cards | Perfect shuffles needed to obtain the same deck back\")\n",
    "    for length in (8, 14, 52):\n",
    "        deck = list(range(length))\n",
    "        shuffles_needed = after_how_many_is_equal(magic_shuffle,deck,deck)\n",
    "        print(\"{} | {}\".format(length,shuffles_needed))\n",
    "\n",
    "\n",
    "if __name__ == \"__main__\":\n",
    "    main()"
   ]
  },
  {
   "cell_type": "code",
   "execution_count": null,
   "id": "1b485df7",
   "metadata": {},
   "outputs": [],
   "source": []
  }
 ],
 "metadata": {
  "kernelspec": {
   "display_name": "Python 3 (ipykernel)",
   "language": "python",
   "name": "python3"
  },
  "language_info": {
   "codemirror_mode": {
    "name": "ipython",
    "version": 3
   },
   "file_extension": ".py",
   "mimetype": "text/x-python",
   "name": "python",
   "nbconvert_exporter": "python",
   "pygments_lexer": "ipython3",
   "version": "3.8.10"
  }
 },
 "nbformat": 4,
 "nbformat_minor": 5
}
