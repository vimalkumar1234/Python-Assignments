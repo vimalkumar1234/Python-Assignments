{
 "cells": [
  {
   "cell_type": "markdown",
   "id": "8ee41e42",
   "metadata": {},
   "source": [
    "# Inheritance"
   ]
  },
  {
   "cell_type": "code",
   "execution_count": 2,
   "id": "2a3663aa",
   "metadata": {},
   "outputs": [
    {
     "name": "stdout",
     "output_type": "stream",
     "text": [
      "1st function\n"
     ]
    }
   ],
   "source": [
    "class Parent:\n",
    "    def fun1(self):\n",
    "        print('1st function')\n",
    "p = Parent()\n",
    "p.fun1()"
   ]
  },
  {
   "cell_type": "code",
   "execution_count": 5,
   "id": "b8a4a58d",
   "metadata": {},
   "outputs": [
    {
     "name": "stdout",
     "output_type": "stream",
     "text": [
      "1st function\n",
      "2nd function\n"
     ]
    }
   ],
   "source": [
    "class Parent:\n",
    "    def fun1(self):\n",
    "        print('1st function')\n",
    "        \n",
    "class Child(Parent):\n",
    "    def fun2(self):\n",
    "        print('2nd function')\n",
    "        \n",
    "c = Child()\n",
    "c.fun1()\n",
    "c.fun2()"
   ]
  },
  {
   "cell_type": "code",
   "execution_count": 9,
   "id": "34d78f11",
   "metadata": {},
   "outputs": [
    {
     "name": "stdout",
     "output_type": "stream",
     "text": [
      "1st function\n",
      "2nd function\n",
      "3rd Function\n"
     ]
    }
   ],
   "source": [
    "class Parent:\n",
    "    def fun1(self):\n",
    "        print('1st function')\n",
    "        \n",
    "class Child(Parent):\n",
    "    def fun2(self):\n",
    "        print('2nd function')\n",
    "        \n",
    "class Child2(Child):\n",
    "    def fun3(self):\n",
    "        print('3rd Function')\n",
    "    \n",
    "a = Child2()\n",
    "a.fun1()\n",
    "a.fun2()\n",
    "a.fun3()"
   ]
  },
  {
   "cell_type": "code",
   "execution_count": 40,
   "id": "1f6a07f7",
   "metadata": {},
   "outputs": [
    {
     "name": "stdout",
     "output_type": "stream",
     "text": [
      "Type of sport : Cricket\n",
      "player_name : Virat Kohli\n",
      "player age : 30\n"
     ]
    }
   ],
   "source": [
    "class Sports:\n",
    "    def __init__(self,sports_name):\n",
    "        self.sports_name = sports_name\n",
    "        \n",
    "    def display_sports(self):\n",
    "        print('The type of sports :' , self.sports_name)\n",
    "        \n",
    "class Details(Sports):\n",
    "    def __init__(self,sports_name,player_name,player_age):\n",
    "        super().__init__(sports_name)\n",
    "        self.player_name = player_name\n",
    "        self.player_age = player_age\n",
    "        \n",
    "    def full_details(self):\n",
    "        print('Type of sport :' , self.sports_name)\n",
    "        print('player_name :', self.player_name)\n",
    "        print('player age :' , self.player_age)\n",
    "    \n",
    "obj = Details('Cricket','Virat Kohli',30)\n",
    "obj.full_details()"
   ]
  },
  {
   "cell_type": "markdown",
   "id": "1d6635cf",
   "metadata": {},
   "source": [
    "# In Inheritance Parent class can be called from child class"
   ]
  },
  {
   "cell_type": "code",
   "execution_count": null,
   "id": "021387e2",
   "metadata": {},
   "outputs": [],
   "source": []
  },
  {
   "cell_type": "code",
   "execution_count": null,
   "id": "30a81fc0",
   "metadata": {},
   "outputs": [],
   "source": []
  },
  {
   "cell_type": "markdown",
   "id": "a64fb2bb",
   "metadata": {},
   "source": [
    "# Polymorphism"
   ]
  },
  {
   "cell_type": "code",
   "execution_count": 52,
   "id": "1cb02e25",
   "metadata": {},
   "outputs": [
    {
     "name": "stdout",
     "output_type": "stream",
     "text": [
      "Name of the Player : Virat Kohli\n",
      "Age of the Player : 30\n",
      "Name of the Player : Ronaldo\n",
      "Age of the Player : 35\n"
     ]
    }
   ],
   "source": [
    "class Cricket:\n",
    "    def __init__(self,player,age):\n",
    "        self.player = player\n",
    "        self.age = age\n",
    "        \n",
    "    def player_name(self):\n",
    "        #self.player = 'Virat Kohli'\n",
    "        print('Name of the Player :', self.player)\n",
    "        \n",
    "    def player_age(self):\n",
    "        #self.age = 30\n",
    "        print('Age of the Player :' , self.age)\n",
    "        \n",
    "class Football:\n",
    "    def __init__(self,player,age):\n",
    "        self.player = player\n",
    "        self.age = age\n",
    "        \n",
    "    def player_name(self):\n",
    "        #self.player = 'Ronaldo'\n",
    "        print('Name of the Player :', self.player)\n",
    "        \n",
    "    def player_age(self):\n",
    "        #self.age = 35\n",
    "        print('Age of the Player :' , self.age)  \n",
    "        \n",
    "obj_1 = Cricket('Virat Kohli',30)\n",
    "obj_2 = Football('Ronaldo',35)\n",
    "\n",
    "def fun(obj):\n",
    "    obj.player_name()\n",
    "    obj.player_age()\n",
    "    \n",
    "fun(obj_1)\n",
    "fun(obj_2)"
   ]
  },
  {
   "cell_type": "markdown",
   "id": "393a92ff",
   "metadata": {},
   "source": [
    "# In Polymorphism multiple class with same functions can be called using common function "
   ]
  },
  {
   "cell_type": "code",
   "execution_count": null,
   "id": "cf4e4347",
   "metadata": {},
   "outputs": [],
   "source": []
  },
  {
   "cell_type": "markdown",
   "id": "c85aabb6",
   "metadata": {},
   "source": [
    "# Encapsulation"
   ]
  },
  {
   "cell_type": "code",
   "execution_count": 64,
   "id": "0df5749d",
   "metadata": {},
   "outputs": [
    {
     "name": "stdout",
     "output_type": "stream",
     "text": [
      "Current Age of player : 32\n",
      "Current Age of player : 32\n",
      "Current Age of player : 45\n"
     ]
    }
   ],
   "source": [
    "class Player:\n",
    "    def __init__(self):\n",
    "        self.__player_age = 32\n",
    "        \n",
    "    def current_age(self):\n",
    "        print('Current Age of player :' , self.__player_age)\n",
    "        \n",
    "    def retired_age(self,age):\n",
    "        self.__player_age = age\n",
    "\n",
    "obj1 = Player()\n",
    "obj1.current_age()\n",
    "\n",
    "obj1.__player_age = 40\n",
    "obj1.current_age()\n",
    "\n",
    "obj1.retired_age(45)\n",
    "obj1.current_age()\n"
   ]
  },
  {
   "cell_type": "markdown",
   "id": "8ed39469",
   "metadata": {},
   "source": [
    "# In Encapsulation the input value cannot changed out the Class"
   ]
  },
  {
   "cell_type": "code",
   "execution_count": null,
   "id": "7eb2bf9b",
   "metadata": {},
   "outputs": [],
   "source": []
  },
  {
   "cell_type": "markdown",
   "id": "f9b60f91",
   "metadata": {},
   "source": [
    "# For Loop and While Loop\n"
   ]
  },
  {
   "cell_type": "code",
   "execution_count": 103,
   "id": "ef032f8e",
   "metadata": {},
   "outputs": [],
   "source": [
    "list_1 = [30,10,20,25,30,5,55,15,40,50]"
   ]
  },
  {
   "cell_type": "code",
   "execution_count": 112,
   "id": "9a702aea",
   "metadata": {},
   "outputs": [
    {
     "name": "stdout",
     "output_type": "stream",
     "text": [
      "280\n"
     ]
    }
   ],
   "source": [
    "sum = 0\n",
    "for i in list_1:\n",
    "    sum = sum + i\n",
    "print(sum)"
   ]
  },
  {
   "cell_type": "code",
   "execution_count": 111,
   "id": "abf10b1e",
   "metadata": {},
   "outputs": [
    {
     "name": "stdout",
     "output_type": "stream",
     "text": [
      "280\n"
     ]
    }
   ],
   "source": [
    "i = 0\n",
    "res = 0\n",
    "while i < len(list_1):\n",
    "    res += list_1[i]\n",
    "    i += 1\n",
    "print(res)"
   ]
  },
  {
   "cell_type": "markdown",
   "id": "a0163db0",
   "metadata": {},
   "source": [
    "# Break and Continue"
   ]
  },
  {
   "cell_type": "code",
   "execution_count": 85,
   "id": "0bac6ef9",
   "metadata": {},
   "outputs": [],
   "source": [
    "list_1 = [30,10,20,25,30,5,55,15,40,50]"
   ]
  },
  {
   "cell_type": "code",
   "execution_count": 87,
   "id": "349669d2",
   "metadata": {},
   "outputs": [
    {
     "name": "stdout",
     "output_type": "stream",
     "text": [
      "30\n",
      "10\n",
      "20\n",
      "25\n",
      "30\n",
      "Number 5 in list and loop gets stopped\n"
     ]
    }
   ],
   "source": [
    "for x in list_1:\n",
    "    if x == 5:\n",
    "        break\n",
    "    print(x)\n",
    "print('Number 5 in list and loop gets stopped')"
   ]
  },
  {
   "cell_type": "code",
   "execution_count": 89,
   "id": "f9edc0a6",
   "metadata": {},
   "outputs": [
    {
     "name": "stdout",
     "output_type": "stream",
     "text": [
      "30\n",
      "10\n",
      "20\n",
      "25\n",
      "30\n",
      "55\n",
      "15\n",
      "40\n",
      "50\n",
      "Number 5 in list but loop gets continued\n"
     ]
    }
   ],
   "source": [
    "for x in list_1:\n",
    "    if x == 5:\n",
    "        continue\n",
    "    print(x)\n",
    "print('Number 5 in list but loop gets continued')"
   ]
  },
  {
   "cell_type": "markdown",
   "id": "109c1cad",
   "metadata": {},
   "source": [
    "# Positional Arguements"
   ]
  },
  {
   "cell_type": "code",
   "execution_count": 120,
   "id": "99d1b0e6",
   "metadata": {},
   "outputs": [],
   "source": [
    "def cube_sum(x,y):\n",
    "    cube_x = x*x*x\n",
    "    cube_y = y*y*y\n",
    "    total = cube_x + cube_y\n",
    "    return total"
   ]
  },
  {
   "cell_type": "code",
   "execution_count": 121,
   "id": "9d983717",
   "metadata": {},
   "outputs": [
    {
     "data": {
      "text/plain": [
       "1125"
      ]
     },
     "execution_count": 121,
     "metadata": {},
     "output_type": "execute_result"
    }
   ],
   "source": [
    "cube_sum(5,10)"
   ]
  },
  {
   "cell_type": "markdown",
   "id": "bc6bb785",
   "metadata": {},
   "source": [
    "# In Positional Arguements When we change the position of x and y values then the output will be different for other scenarios"
   ]
  },
  {
   "cell_type": "code",
   "execution_count": null,
   "id": "ba93ba57",
   "metadata": {},
   "outputs": [],
   "source": []
  },
  {
   "cell_type": "markdown",
   "id": "1c41cc51",
   "metadata": {},
   "source": [
    "# Keyword Arguements"
   ]
  },
  {
   "cell_type": "code",
   "execution_count": 125,
   "id": "c62425d0",
   "metadata": {},
   "outputs": [],
   "source": [
    "def string_concatination(x,y):\n",
    "    out = str(y) + ' ' + str(x)\n",
    "    return out"
   ]
  },
  {
   "cell_type": "code",
   "execution_count": 126,
   "id": "2205624a",
   "metadata": {},
   "outputs": [
    {
     "data": {
      "text/plain": [
       "'Virat Kohli'"
      ]
     },
     "execution_count": 126,
     "metadata": {},
     "output_type": "execute_result"
    }
   ],
   "source": [
    "string_concatination(x = 'Kohli',y = 'Virat')"
   ]
  },
  {
   "cell_type": "markdown",
   "id": "09a4d352",
   "metadata": {},
   "source": [
    "# In keyword when we change the position also it does not affect the output because the keywords are stored for particular variables"
   ]
  },
  {
   "cell_type": "code",
   "execution_count": null,
   "id": "b42fc8a6",
   "metadata": {},
   "outputs": [],
   "source": []
  },
  {
   "cell_type": "markdown",
   "id": "dc66da7b",
   "metadata": {},
   "source": [
    "# Default Arguements"
   ]
  },
  {
   "cell_type": "code",
   "execution_count": 128,
   "id": "5ac6a0bf",
   "metadata": {},
   "outputs": [],
   "source": [
    "def multiplication(x , y = 10):\n",
    "    ans = x * y\n",
    "    return ans\n",
    "    "
   ]
  },
  {
   "cell_type": "code",
   "execution_count": 129,
   "id": "6d8a2e8f",
   "metadata": {},
   "outputs": [
    {
     "data": {
      "text/plain": [
       "50"
      ]
     },
     "execution_count": 129,
     "metadata": {},
     "output_type": "execute_result"
    }
   ],
   "source": [
    "multiplication(5)"
   ]
  },
  {
   "cell_type": "code",
   "execution_count": 130,
   "id": "39df42de",
   "metadata": {},
   "outputs": [
    {
     "data": {
      "text/plain": [
       "200"
      ]
     },
     "execution_count": 130,
     "metadata": {},
     "output_type": "execute_result"
    }
   ],
   "source": [
    "multiplication(10,20)"
   ]
  },
  {
   "cell_type": "code",
   "execution_count": 131,
   "id": "59cd8668",
   "metadata": {},
   "outputs": [
    {
     "data": {
      "text/plain": [
       "20"
      ]
     },
     "execution_count": 131,
     "metadata": {},
     "output_type": "execute_result"
    }
   ],
   "source": [
    "multiplication(x = 4 , y = 5)"
   ]
  },
  {
   "cell_type": "markdown",
   "id": "7082c28f",
   "metadata": {},
   "source": [
    "# Default is the combination of both positional and keyword arguements"
   ]
  },
  {
   "cell_type": "code",
   "execution_count": null,
   "id": "b0ca403d",
   "metadata": {},
   "outputs": [],
   "source": []
  },
  {
   "cell_type": "markdown",
   "id": "ceca90f7",
   "metadata": {},
   "source": [
    "# Variable Length arguements"
   ]
  },
  {
   "cell_type": "code",
   "execution_count": 155,
   "id": "b09fc291",
   "metadata": {},
   "outputs": [],
   "source": [
    "def var_len_arg(x , y , *args):\n",
    "    print('The First value in list :', x)\n",
    "    print('The Second value in list :' , y)\n",
    "    #print('Rest of the values ')    \n",
    "    for i in args:\n",
    "        \n",
    "        print(i,end = ' ')\n",
    "    print('    =    Rest of the values ')"
   ]
  },
  {
   "cell_type": "code",
   "execution_count": 156,
   "id": "dc1ee9ef",
   "metadata": {},
   "outputs": [
    {
     "name": "stdout",
     "output_type": "stream",
     "text": [
      "The First value in list : 15\n",
      "The Second value in list : 30\n",
      "45 60 75 90     =    Rest of the values \n"
     ]
    }
   ],
   "source": [
    "var_len_arg(15,30,45,60,75,90)"
   ]
  },
  {
   "cell_type": "code",
   "execution_count": null,
   "id": "79cc3bb0",
   "metadata": {},
   "outputs": [],
   "source": []
  },
  {
   "cell_type": "code",
   "execution_count": null,
   "id": "ba2591a4",
   "metadata": {},
   "outputs": [],
   "source": []
  },
  {
   "cell_type": "markdown",
   "id": "5beb208a",
   "metadata": {},
   "source": [
    "# In Built Functions"
   ]
  },
  {
   "cell_type": "code",
   "execution_count": 157,
   "id": "33be9868",
   "metadata": {},
   "outputs": [],
   "source": [
    "list_1 = [30,10,20,25,30,5,55,15,40,50]"
   ]
  },
  {
   "cell_type": "markdown",
   "id": "39d96cea",
   "metadata": {},
   "source": [
    "# 1. max"
   ]
  },
  {
   "cell_type": "code",
   "execution_count": 159,
   "id": "0772bc6e",
   "metadata": {},
   "outputs": [
    {
     "data": {
      "text/plain": [
       "55"
      ]
     },
     "execution_count": 159,
     "metadata": {},
     "output_type": "execute_result"
    }
   ],
   "source": [
    "max(list_1)"
   ]
  },
  {
   "cell_type": "markdown",
   "id": "4dfe75b1",
   "metadata": {},
   "source": [
    "# 2.Min"
   ]
  },
  {
   "cell_type": "code",
   "execution_count": 160,
   "id": "8c2ef340",
   "metadata": {},
   "outputs": [
    {
     "data": {
      "text/plain": [
       "5"
      ]
     },
     "execution_count": 160,
     "metadata": {},
     "output_type": "execute_result"
    }
   ],
   "source": [
    "min(list_1)"
   ]
  },
  {
   "cell_type": "markdown",
   "id": "ce372a42",
   "metadata": {},
   "source": [
    "# 3.Enumerate"
   ]
  },
  {
   "cell_type": "code",
   "execution_count": 167,
   "id": "82d869ee",
   "metadata": {},
   "outputs": [
    {
     "name": "stdout",
     "output_type": "stream",
     "text": [
      "(0, 30)\n",
      "(1, 10)\n",
      "(2, 20)\n",
      "(3, 25)\n",
      "(4, 30)\n",
      "(5, 5)\n",
      "(6, 55)\n",
      "(7, 15)\n",
      "(8, 40)\n",
      "(9, 50)\n"
     ]
    }
   ],
   "source": [
    "for i in enumerate(list_1):\n",
    "    print(i)"
   ]
  },
  {
   "cell_type": "markdown",
   "id": "e0fe1182",
   "metadata": {},
   "source": [
    "# 4.Length"
   ]
  },
  {
   "cell_type": "code",
   "execution_count": 168,
   "id": "6ac878c8",
   "metadata": {},
   "outputs": [
    {
     "data": {
      "text/plain": [
       "10"
      ]
     },
     "execution_count": 168,
     "metadata": {},
     "output_type": "execute_result"
    }
   ],
   "source": [
    "len(list_1)"
   ]
  },
  {
   "cell_type": "markdown",
   "id": "900e7c12",
   "metadata": {},
   "source": [
    "# 5.Frozen set"
   ]
  },
  {
   "cell_type": "code",
   "execution_count": 170,
   "id": "dbb1597c",
   "metadata": {},
   "outputs": [
    {
     "data": {
      "text/plain": [
       "frozenset({5, 10, 15, 20, 25, 30, 40, 50, 55})"
      ]
     },
     "execution_count": 170,
     "metadata": {},
     "output_type": "execute_result"
    }
   ],
   "source": [
    "frozen_list = frozenset(list_1)\n",
    "frozen_list"
   ]
  },
  {
   "cell_type": "markdown",
   "id": "1103f4d3",
   "metadata": {},
   "source": [
    "# These values cannot be changed , it is immutuable"
   ]
  },
  {
   "cell_type": "markdown",
   "id": "42562922",
   "metadata": {},
   "source": [
    "# 6.Reversed"
   ]
  },
  {
   "cell_type": "code",
   "execution_count": 185,
   "id": "6fffde00",
   "metadata": {},
   "outputs": [
    {
     "data": {
      "text/plain": [
       "[7, 5, 3, 2]"
      ]
     },
     "execution_count": 185,
     "metadata": {},
     "output_type": "execute_result"
    }
   ],
   "source": [
    "prime_numbers = [2, 3, 5, 7]\n",
    "prime_numbers.reverse()\n",
    "prime_numbers"
   ]
  },
  {
   "cell_type": "markdown",
   "id": "4fbe38fa",
   "metadata": {},
   "source": [
    "# Is Instance"
   ]
  },
  {
   "cell_type": "code",
   "execution_count": 189,
   "id": "6ff6a850",
   "metadata": {},
   "outputs": [
    {
     "data": {
      "text/plain": [
       "True"
      ]
     },
     "execution_count": 189,
     "metadata": {},
     "output_type": "execute_result"
    }
   ],
   "source": [
    "prime_numbers = [2, 3, 5, 7]\n",
    "isinstance(prime_numbers,list)"
   ]
  },
  {
   "cell_type": "markdown",
   "id": "bd54eedf",
   "metadata": {},
   "source": [
    "# 8. Is Subclass"
   ]
  },
  {
   "cell_type": "code",
   "execution_count": 191,
   "id": "a1734734",
   "metadata": {},
   "outputs": [],
   "source": [
    "class Parent:\n",
    "    def fun1(self):\n",
    "        print('1st function')\n",
    "        \n",
    "class Child(Parent):\n",
    "    def fun2(self):\n",
    "        print('2nd function')\n",
    "        \n",
    "class Child2(Child):\n",
    "    def fun3(self):\n",
    "        print('3rd Function')\n"
   ]
  },
  {
   "cell_type": "code",
   "execution_count": 192,
   "id": "3b1b3583",
   "metadata": {},
   "outputs": [
    {
     "data": {
      "text/plain": [
       "True"
      ]
     },
     "execution_count": 192,
     "metadata": {},
     "output_type": "execute_result"
    }
   ],
   "source": [
    "issubclass(Child,Parent)"
   ]
  },
  {
   "cell_type": "code",
   "execution_count": 194,
   "id": "72d98de2",
   "metadata": {},
   "outputs": [
    {
     "data": {
      "text/plain": [
       "False"
      ]
     },
     "execution_count": 194,
     "metadata": {},
     "output_type": "execute_result"
    }
   ],
   "source": [
    "issubclass(Child,Child2)"
   ]
  },
  {
   "cell_type": "code",
   "execution_count": 195,
   "id": "43133e69",
   "metadata": {},
   "outputs": [
    {
     "data": {
      "text/plain": [
       "True"
      ]
     },
     "execution_count": 195,
     "metadata": {},
     "output_type": "execute_result"
    }
   ],
   "source": [
    "issubclass(Child2,Parent)"
   ]
  },
  {
   "cell_type": "markdown",
   "id": "ae0636ed",
   "metadata": {},
   "source": [
    "# 9. Zip"
   ]
  },
  {
   "cell_type": "code",
   "execution_count": 1,
   "id": "46837f07",
   "metadata": {},
   "outputs": [],
   "source": [
    "l_1 = [0,1,2,3]\n",
    "l_2 = ['orange','apple','grapes','pine']"
   ]
  },
  {
   "cell_type": "code",
   "execution_count": 13,
   "id": "4020473c",
   "metadata": {},
   "outputs": [
    {
     "name": "stdout",
     "output_type": "stream",
     "text": [
      "[(0, 'orange'), (1, 'apple'), (2, 'grapes'), (3, 'pine')]\n"
     ]
    }
   ],
   "source": [
    "print(list(zip(l_1,l_2)))"
   ]
  },
  {
   "cell_type": "markdown",
   "id": "cde01385",
   "metadata": {},
   "source": [
    "# 10.Divmod"
   ]
  },
  {
   "cell_type": "code",
   "execution_count": 14,
   "id": "0b7c391d",
   "metadata": {},
   "outputs": [
    {
     "data": {
      "text/plain": [
       "(5, 0)"
      ]
     },
     "execution_count": 14,
     "metadata": {},
     "output_type": "execute_result"
    }
   ],
   "source": [
    "divmod(50,10)"
   ]
  },
  {
   "cell_type": "markdown",
   "id": "54dd619c",
   "metadata": {},
   "source": [
    "It gives the quotient and remainder"
   ]
  },
  {
   "cell_type": "markdown",
   "id": "b7e318c3",
   "metadata": {},
   "source": [
    "# 11.Any"
   ]
  },
  {
   "cell_type": "code",
   "execution_count": 19,
   "id": "64376720",
   "metadata": {},
   "outputs": [
    {
     "data": {
      "text/plain": [
       "True"
      ]
     },
     "execution_count": 19,
     "metadata": {},
     "output_type": "execute_result"
    }
   ],
   "source": [
    "any([1,0,0,0,0])"
   ]
  },
  {
   "cell_type": "code",
   "execution_count": 18,
   "id": "cc73c6cf",
   "metadata": {},
   "outputs": [
    {
     "data": {
      "text/plain": [
       "False"
      ]
     },
     "execution_count": 18,
     "metadata": {},
     "output_type": "execute_result"
    }
   ],
   "source": [
    "any([0,0,0,0])"
   ]
  },
  {
   "cell_type": "code",
   "execution_count": 20,
   "id": "a02fb647",
   "metadata": {},
   "outputs": [
    {
     "data": {
      "text/plain": [
       "True"
      ]
     },
     "execution_count": 20,
     "metadata": {},
     "output_type": "execute_result"
    }
   ],
   "source": [
    "any([1,1,1,1,1,])"
   ]
  },
  {
   "cell_type": "markdown",
   "id": "00d1d1cf",
   "metadata": {},
   "source": [
    "# 12.All"
   ]
  },
  {
   "cell_type": "code",
   "execution_count": 21,
   "id": "5602d025",
   "metadata": {},
   "outputs": [
    {
     "data": {
      "text/plain": [
       "False"
      ]
     },
     "execution_count": 21,
     "metadata": {},
     "output_type": "execute_result"
    }
   ],
   "source": [
    "all([0,1,0,0,1])"
   ]
  },
  {
   "cell_type": "code",
   "execution_count": 23,
   "id": "e90a0e6d",
   "metadata": {},
   "outputs": [
    {
     "data": {
      "text/plain": [
       "True"
      ]
     },
     "execution_count": 23,
     "metadata": {},
     "output_type": "execute_result"
    }
   ],
   "source": [
    "all([1,1,1,1])"
   ]
  },
  {
   "cell_type": "code",
   "execution_count": 24,
   "id": "5706849b",
   "metadata": {},
   "outputs": [
    {
     "data": {
      "text/plain": [
       "False"
      ]
     },
     "execution_count": 24,
     "metadata": {},
     "output_type": "execute_result"
    }
   ],
   "source": [
    "all([0,0,0,0,0])"
   ]
  },
  {
   "cell_type": "markdown",
   "id": "7737234f",
   "metadata": {},
   "source": [
    "# Error Execption"
   ]
  },
  {
   "cell_type": "markdown",
   "id": "724c114e",
   "metadata": {},
   "source": [
    "# Value Error"
   ]
  },
  {
   "cell_type": "code",
   "execution_count": 31,
   "id": "87b51fb4",
   "metadata": {},
   "outputs": [
    {
     "name": "stdout",
     "output_type": "stream",
     "text": [
      "Enter the Digit :f\n",
      "Enter the valid Digit\n"
     ]
    }
   ],
   "source": [
    "try:\n",
    "    x = int(input('Enter the Digit :'))\n",
    "    out = x * x\n",
    "    print(out)\n",
    "except ValueError:\n",
    "    print('Enter the valid Digit')"
   ]
  },
  {
   "cell_type": "code",
   "execution_count": 32,
   "id": "d3f41fc0",
   "metadata": {},
   "outputs": [
    {
     "name": "stdout",
     "output_type": "stream",
     "text": [
      "Enter the Digit :6\n",
      "36\n"
     ]
    }
   ],
   "source": [
    "try:\n",
    "    x = int(input('Enter the Digit :'))\n",
    "    out = x * x\n",
    "    print(out)\n",
    "except ValueError:\n",
    "    print('Enter the valid Digit')"
   ]
  },
  {
   "cell_type": "markdown",
   "id": "995cd455",
   "metadata": {},
   "source": [
    "# Zero Division Error"
   ]
  },
  {
   "cell_type": "code",
   "execution_count": 33,
   "id": "1ca52272",
   "metadata": {},
   "outputs": [
    {
     "name": "stdout",
     "output_type": "stream",
     "text": [
      "Enter the Digit :50\n",
      "Enter the Digit non zero :10\n",
      "5.0\n"
     ]
    }
   ],
   "source": [
    "try:\n",
    "    x = int(input('Enter the Digit :'))\n",
    "    y = int(input('Enter the Digit non zero :'))\n",
    "    div = x / y\n",
    "    print(div)\n",
    "except ZeroDivisionError:\n",
    "    print('Enter the Non Zero Digit')"
   ]
  },
  {
   "cell_type": "code",
   "execution_count": 34,
   "id": "2abf8837",
   "metadata": {},
   "outputs": [
    {
     "name": "stdout",
     "output_type": "stream",
     "text": [
      "Enter the Digit :10\n",
      "Enter the Digit non zero :0\n",
      "Enter the Non Zero Digit\n"
     ]
    }
   ],
   "source": [
    "try:\n",
    "    x = int(input('Enter the Digit :'))\n",
    "    y = int(input('Enter the Digit non zero :'))\n",
    "    div = x / y\n",
    "    print(div)\n",
    "except ZeroDivisionError:\n",
    "    print('Enter the Non Zero Digit')"
   ]
  },
  {
   "cell_type": "markdown",
   "id": "7b2727e4",
   "metadata": {},
   "source": [
    "# Syntax error"
   ]
  },
  {
   "cell_type": "code",
   "execution_count": 71,
   "id": "1d87a866",
   "metadata": {},
   "outputs": [
    {
     "name": "stdout",
     "output_type": "stream",
     "text": [
      "Check the Syntax\n"
     ]
    }
   ],
   "source": [
    "try:\n",
    "    eval('x===x')\n",
    "except SyntaxError:\n",
    "    print(\"Check the Syntax\")"
   ]
  },
  {
   "cell_type": "markdown",
   "id": "e70c58b0",
   "metadata": {},
   "source": [
    "# Assertion Error"
   ]
  },
  {
   "cell_type": "code",
   "execution_count": 74,
   "id": "8962ab84",
   "metadata": {},
   "outputs": [
    {
     "name": "stdout",
     "output_type": "stream",
     "text": [
      "Assertion Error Occured\n"
     ]
    }
   ],
   "source": [
    "try:  \n",
    "    a = 100\n",
    "    b = \"Vimal\"\n",
    "    assert a == b\n",
    "except AssertionError:  \n",
    "        print (\"Assertion Error Occured\")"
   ]
  },
  {
   "cell_type": "markdown",
   "id": "a9906618",
   "metadata": {},
   "source": [
    "# Name Error"
   ]
  },
  {
   "cell_type": "code",
   "execution_count": 82,
   "id": "b02033eb",
   "metadata": {},
   "outputs": [
    {
     "name": "stdout",
     "output_type": "stream",
     "text": [
      "Enter the Proper type of Input\n"
     ]
    }
   ],
   "source": [
    "try:  \n",
    "    a = 100\n",
    "    b = \"Vimal\"\n",
    "    c = a + b\n",
    "    print(c)\n",
    "except TypeError:  \n",
    "        print (\"Enter the Proper type of Input\")"
   ]
  },
  {
   "cell_type": "code",
   "execution_count": 83,
   "id": "fc019318",
   "metadata": {},
   "outputs": [
    {
     "name": "stdout",
     "output_type": "stream",
     "text": [
      "115\n"
     ]
    }
   ],
   "source": [
    "try:  \n",
    "    a = 100\n",
    "    b = 15\n",
    "    c = a + b\n",
    "    print(c)\n",
    "except TypeError:  \n",
    "        print (\"Enter the Proper type of Input\")"
   ]
  },
  {
   "cell_type": "markdown",
   "id": "f426b14b",
   "metadata": {},
   "source": [
    "# Lookup Error"
   ]
  },
  {
   "cell_type": "code",
   "execution_count": 78,
   "id": "e18b9a6d",
   "metadata": {},
   "outputs": [
    {
     "name": "stdout",
     "output_type": "stream",
     "text": [
      "d\n"
     ]
    }
   ],
   "source": [
    "try:\n",
    "    a = {1:'a', 2:'b', 3:'c',4:'d',5:'e'}  \n",
    "    print (a[4])  \n",
    "    \n",
    "except LookupError:\n",
    "    print('Check the Range of Index')"
   ]
  },
  {
   "cell_type": "code",
   "execution_count": 79,
   "id": "951e489d",
   "metadata": {},
   "outputs": [
    {
     "name": "stdout",
     "output_type": "stream",
     "text": [
      "Check the Range of Index\n"
     ]
    }
   ],
   "source": [
    "try:\n",
    "    a = {1:'a', 2:'b', 3:'c',4:'d',5:'e'}  \n",
    "    print (a[7])  \n",
    "    \n",
    "except LookupError:\n",
    "    print('Check the Range of Index')"
   ]
  },
  {
   "cell_type": "code",
   "execution_count": 81,
   "id": "61e05b58",
   "metadata": {},
   "outputs": [
    {
     "name": "stdout",
     "output_type": "stream",
     "text": [
      "Enter the Valid string\n"
     ]
    }
   ],
   "source": [
    "try:\n",
    "    print(vimal)\n",
    "except NameError:\n",
    "    print('Enter the Valid string')"
   ]
  },
  {
   "cell_type": "code",
   "execution_count": null,
   "id": "4814dca4",
   "metadata": {},
   "outputs": [],
   "source": []
  }
 ],
 "metadata": {
  "kernelspec": {
   "display_name": "Python 3 (ipykernel)",
   "language": "python",
   "name": "python3"
  },
  "language_info": {
   "codemirror_mode": {
    "name": "ipython",
    "version": 3
   },
   "file_extension": ".py",
   "mimetype": "text/x-python",
   "name": "python",
   "nbconvert_exporter": "python",
   "pygments_lexer": "ipython3",
   "version": "3.8.10"
  }
 },
 "nbformat": 4,
 "nbformat_minor": 5
}
