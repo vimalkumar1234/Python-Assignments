{
 "cells": [
  {
   "cell_type": "code",
   "execution_count": null,
   "id": "7a52b85e",
   "metadata": {},
   "outputs": [],
   "source": []
  },
  {
   "cell_type": "code",
   "execution_count": null,
   "id": "b84b9b63",
   "metadata": {},
   "outputs": [],
   "source": []
  },
  {
   "cell_type": "code",
   "execution_count": null,
   "id": "ddb86b0b",
   "metadata": {},
   "outputs": [],
   "source": []
  },
  {
   "cell_type": "code",
   "execution_count": 283,
   "id": "c46eb4f1",
   "metadata": {},
   "outputs": [],
   "source": [
    "def solution(n):\n",
    "    num = int(n / 3)\n",
    "    #print(num)\n",
    "    \n",
    "    x = []\n",
    "    for i in range(1,num):\n",
    "        j = 2 ** i\n",
    "        #print(j)\n",
    "        x.append(j)\n",
    "        if j > num:\n",
    "            break\n",
    "    #print(x)\n",
    "            \n",
    "    y = []\n",
    "    for k in x:\n",
    "        if n % k == 0:\n",
    "            #print(k)\n",
    "            y.append(k)\n",
    "            \n",
    "    #print(y)\n",
    "        \n",
    "    div_val = y[-1]\n",
    "    #print('The Highest Power Value :' , div_val)\n",
    "    \n",
    "    \n",
    "    output = int(n / div_val)\n",
    "    final_out = x.index(div_val)\n",
    "    final_out = final_out + 1\n",
    "    print(final_out)\n",
    "    \n",
    "    #print('Number divided by Power value :' , output)\n",
    "            \n",
    "    \n",
    "            \n",
    "    "
   ]
  },
  {
   "cell_type": "code",
   "execution_count": 284,
   "id": "1407ae34",
   "metadata": {},
   "outputs": [
    {
     "name": "stdout",
     "output_type": "stream",
     "text": [
      "4\n"
     ]
    }
   ],
   "source": [
    "solution(32)"
   ]
  },
  {
   "cell_type": "code",
   "execution_count": 285,
   "id": "741737d4",
   "metadata": {},
   "outputs": [
    {
     "name": "stdout",
     "output_type": "stream",
     "text": [
      "3\n"
     ]
    }
   ],
   "source": [
    "solution(24)"
   ]
  },
  {
   "cell_type": "code",
   "execution_count": 286,
   "id": "9ebb5e3f",
   "metadata": {},
   "outputs": [
    {
     "name": "stdout",
     "output_type": "stream",
     "text": [
      "4\n"
     ]
    }
   ],
   "source": [
    "solution(80)"
   ]
  },
  {
   "cell_type": "code",
   "execution_count": 287,
   "id": "06b00657",
   "metadata": {},
   "outputs": [
    {
     "name": "stdout",
     "output_type": "stream",
     "text": [
      "4\n"
     ]
    }
   ],
   "source": [
    "solution(400)"
   ]
  },
  {
   "cell_type": "code",
   "execution_count": null,
   "id": "5ea0870a",
   "metadata": {},
   "outputs": [],
   "source": []
  },
  {
   "cell_type": "code",
   "execution_count": 288,
   "id": "1d25f9cb",
   "metadata": {},
   "outputs": [],
   "source": [
    "def split(sp):\n",
    "    x = sp.split(' ')\n",
    "    print(x)"
   ]
  },
  {
   "cell_type": "code",
   "execution_count": 289,
   "id": "38b33a66",
   "metadata": {},
   "outputs": [
    {
     "name": "stdout",
     "output_type": "stream",
     "text": [
      "['(())', '()', '()', '((((()))))']\n"
     ]
    }
   ],
   "source": [
    "sp = '(()) () () ((((()))))'\n",
    "split(sp)"
   ]
  },
  {
   "cell_type": "code",
   "execution_count": 290,
   "id": "2cfa3634",
   "metadata": {},
   "outputs": [
    {
     "name": "stdout",
     "output_type": "stream",
     "text": [
      "['(())', '()', '()', '((((()))))', '((()))']\n"
     ]
    }
   ],
   "source": [
    "sp = '(()) () () ((((())))) ((()))'\n",
    "split(sp)"
   ]
  },
  {
   "cell_type": "code",
   "execution_count": null,
   "id": "ba5823a7",
   "metadata": {},
   "outputs": [],
   "source": []
  },
  {
   "cell_type": "code",
   "execution_count": 113,
   "id": "d9bd84bd",
   "metadata": {},
   "outputs": [],
   "source": [
    "import random"
   ]
  },
  {
   "cell_type": "code",
   "execution_count": 120,
   "id": "a9afd2c6",
   "metadata": {},
   "outputs": [],
   "source": [
    "def sol(A,B):\n",
    "    ans = A * 'a' + B * 'b'\n",
    "    #print(ans)\n",
    "    res = ''.join(random.sample(ans,len(ans)))\n",
    "    print(res)"
   ]
  },
  {
   "cell_type": "code",
   "execution_count": 121,
   "id": "022ce8cf",
   "metadata": {},
   "outputs": [
    {
     "name": "stdout",
     "output_type": "stream",
     "text": [
      "baaaba\n"
     ]
    }
   ],
   "source": [
    "sol(4,2)"
   ]
  },
  {
   "cell_type": "code",
   "execution_count": 122,
   "id": "4f043c4d",
   "metadata": {},
   "outputs": [
    {
     "name": "stdout",
     "output_type": "stream",
     "text": [
      "aaaabbbbbbabbb\n"
     ]
    }
   ],
   "source": [
    "sol(5,9)"
   ]
  },
  {
   "cell_type": "code",
   "execution_count": null,
   "id": "b51e2137",
   "metadata": {},
   "outputs": [],
   "source": []
  },
  {
   "cell_type": "code",
   "execution_count": null,
   "id": "0242d479",
   "metadata": {},
   "outputs": [],
   "source": []
  },
  {
   "cell_type": "code",
   "execution_count": 249,
   "id": "94c73c76",
   "metadata": {},
   "outputs": [],
   "source": [
    "def checking_order(x):\n",
    "    lth = x[0]\n",
    "    #print(len(lth))\n",
    "    ls = []\n",
    "    for a in range(len(lth)):\n",
    "        ls.append([])\n",
    "\n",
    "    for i in range(len(lth)):\n",
    "        #print(i)\n",
    "        for k in x:\n",
    "            out = k[i]\n",
    "            #print(k[i])\n",
    "            ls[i].append(k[i])\n",
    "            \n",
    "    print(ls)\n",
    "    \n",
    "    lss = []\n",
    "    for i in range(len(lth)):\n",
    "        if ls[i] == sorted(ls[i]):\n",
    "            lss.append('True')\n",
    "        else:\n",
    "            lss.append('False')\n",
    "\n",
    "    #print(lss)\n",
    "\n",
    "    if 'False' in lss:\n",
    "        print('False')\n",
    "\n",
    "    else:\n",
    "        print('True')"
   ]
  },
  {
   "cell_type": "code",
   "execution_count": 250,
   "id": "2b2bc823",
   "metadata": {},
   "outputs": [
    {
     "name": "stdout",
     "output_type": "stream",
     "text": [
      "[[1, 2, 5, 6], [2, 4, 5, 6], [3, 4, 5, 7], [2, 3, 10, 6], [1, 2, 4, 5], [1, 2, 4, 5]]\n",
      "False\n"
     ]
    }
   ],
   "source": [
    "checking_order(x = [[1, 2, 3, 2, 1, 1],\n",
    "                    [2, 4, 4, 3, 2, 2],\n",
    "                    [5, 5, 5, 10, 4, 4],\n",
    "                    [6, 6, 7, 6, 5, 5]])"
   ]
  },
  {
   "cell_type": "code",
   "execution_count": 244,
   "id": "aeecb82b",
   "metadata": {},
   "outputs": [
    {
     "name": "stdout",
     "output_type": "stream",
     "text": [
      "True\n"
     ]
    }
   ],
   "source": [
    "checking_order(x = [[1, 0, 0],\n",
    "                    [1, 1, 1],\n",
    "                    [2, 2, 2]])"
   ]
  },
  {
   "cell_type": "code",
   "execution_count": 267,
   "id": "7cbe7741",
   "metadata": {},
   "outputs": [],
   "source": []
  },
  {
   "cell_type": "code",
   "execution_count": 305,
   "id": "f3a9e36d",
   "metadata": {},
   "outputs": [],
   "source": [
    "def sort(x):\n",
    "    x_arr = np.array(x)\n",
    "    x_trans = np.transpose(x_arr)\n",
    "    x_l = x_trans.tolist()\n",
    "    x_l = str(x_l)\n",
    "    #print(x_l)\n",
    "    \n",
    "\n",
    "\n",
    "    aa = []\n",
    "    for i in range(len((x_l))):\n",
    "        #print(i)\n",
    "        #print(sorted(x_trans[i]))\n",
    "        #x_l = x_trans.tolist()\n",
    "        if x_l[i] == sorted(x_l[i]):\n",
    "            aa.append('True')\n",
    "        else:\n",
    "            aa.append('False')\n",
    "\n",
    "    if 'False' in aa:\n",
    "        print('Output :', 'False')\n",
    "    else:\n",
    "        print('Output :', 'True')\n",
    "        "
   ]
  },
  {
   "cell_type": "code",
   "execution_count": 307,
   "id": "b12ec351",
   "metadata": {},
   "outputs": [
    {
     "name": "stdout",
     "output_type": "stream",
     "text": [
      "Output : False\n"
     ]
    }
   ],
   "source": [
    "import numpy as np\n",
    "x = [[1, 0, 0],\n",
    "    [1, 1, 1],\n",
    "    [2, 2, 2]]\n",
    "sort(x)"
   ]
  },
  {
   "cell_type": "code",
   "execution_count": null,
   "id": "ac3ed09b",
   "metadata": {},
   "outputs": [],
   "source": []
  },
  {
   "cell_type": "code",
   "execution_count": null,
   "id": "15b25311",
   "metadata": {},
   "outputs": [],
   "source": []
  },
  {
   "cell_type": "code",
   "execution_count": 67,
   "id": "140e2e73",
   "metadata": {},
   "outputs": [],
   "source": [
    "def sort_asc(x):\n",
    "    y = []\n",
    "    for i in x:\n",
    "        new_string = ''.join(filter(str.isalnum, i))\n",
    "        #print(new_string)\n",
    "        y.append(new_string)\n",
    "    #print(y)  \n",
    "    \n",
    "    yy = sorted(y)\n",
    "    #print(yy)\n",
    "    \n",
    "    out = []\n",
    "    for i in yy:\n",
    "        a_1 = i[:2] + '-' + i[2:]\n",
    "        a_2 = a_1[:5] + '-' + a_1[5:]\n",
    "        a_3 = a_2[:10] + '_' + a_2[10:]\n",
    "        a_4 = a_3[:13] + ':' + a_3[13:]\n",
    "        out.append(a_4)\n",
    "        \n",
    "    print(out)\n",
    "\n",
    "    \n",
    "    \n",
    "    \n",
    "    "
   ]
  },
  {
   "cell_type": "code",
   "execution_count": 68,
   "id": "a28109a3",
   "metadata": {},
   "outputs": [
    {
     "name": "stdout",
     "output_type": "stream",
     "text": [
      "['10-02-2016_12:30', '10-02-2018_12:15', '10-02-2018_12:30']\n"
     ]
    }
   ],
   "source": [
    "x = [\"10-02-2018_12:30\", \"10-02-2016_12:30\", \"10-02-2018_12:15\"]\n",
    "sort_asc(x)"
   ]
  },
  {
   "cell_type": "code",
   "execution_count": 66,
   "id": "7c7659c5",
   "metadata": {},
   "outputs": [],
   "source": [
    "def sort_desc(x):\n",
    "    y = []\n",
    "    for i in x:\n",
    "        new_string = ''.join(filter(str.isalnum, i))\n",
    "        #print(new_string)\n",
    "        y.append(new_string)\n",
    "    #print(y)  \n",
    "    \n",
    "    yy = sorted(y)\n",
    "    #print(yy)\n",
    "    \n",
    "    out = []\n",
    "    for i in yy:\n",
    "        a_1 = i[:2] + '-' + i[2:]\n",
    "        a_2 = a_1[:5] + '-' + a_1[5:]\n",
    "        a_3 = a_2[:10] + '_' + a_2[10:]\n",
    "        a_4 = a_3[:13] + ':' + a_3[13:]\n",
    "        out.append(a_4)\n",
    "        \n",
    "    print(out[::-1])"
   ]
  },
  {
   "cell_type": "code",
   "execution_count": 69,
   "id": "c13caeb2",
   "metadata": {},
   "outputs": [
    {
     "name": "stdout",
     "output_type": "stream",
     "text": [
      "['10-02-2018_12:30', '10-02-2018_12:15', '10-02-2016_12:30']\n"
     ]
    }
   ],
   "source": [
    "x = [\"10-02-2018_12:30\", \"10-02-2016_12:30\", \"10-02-2018_12:15\"]\n",
    "sort_desc(x)"
   ]
  },
  {
   "cell_type": "code",
   "execution_count": null,
   "id": "efe73333",
   "metadata": {},
   "outputs": [],
   "source": []
  },
  {
   "cell_type": "code",
   "execution_count": 3,
   "id": "448e6511",
   "metadata": {},
   "outputs": [
    {
     "name": "stdout",
     "output_type": "stream",
     "text": [
      "Enter the Password :VimalKumar@12\n",
      "Password is Valid\n"
     ]
    }
   ],
   "source": [
    "import re\n",
    "password = input('Enter the Password :')\n",
    "while True:\n",
    "    if len(password) < 8:\n",
    "        count = -1\n",
    "        break\n",
    "    elif not re.search('[A-Z]',password):\n",
    "        count = -1\n",
    "        break\n",
    "    elif not re.search('[a-z]',password):\n",
    "        count = -1\n",
    "        break\n",
    "    elif not re.search('[!@#$%^&*(){}?><]',password):\n",
    "        count = -1\n",
    "        break\n",
    "    elif not re.search('[0-9]',password):\n",
    "        count = -1\n",
    "        break\n",
    "    else:\n",
    "        count = 0\n",
    "        print('Password is Valid')\n",
    "        break\n",
    "    \n",
    "        \n",
    "if count == -1:\n",
    "    print('Password is Not Valid')\n",
    "    \n",
    "\n",
    "        \n",
    "        \n",
    "        \n"
   ]
  },
  {
   "cell_type": "code",
   "execution_count": null,
   "id": "ec9200e8",
   "metadata": {},
   "outputs": [],
   "source": []
  },
  {
   "cell_type": "code",
   "execution_count": null,
   "id": "cb4aff97",
   "metadata": {},
   "outputs": [],
   "source": []
  },
  {
   "cell_type": "code",
   "execution_count": null,
   "id": "5c0c54db",
   "metadata": {},
   "outputs": [],
   "source": []
  },
  {
   "cell_type": "code",
   "execution_count": 226,
   "id": "a8e99b7b",
   "metadata": {},
   "outputs": [
    {
     "name": "stdout",
     "output_type": "stream",
     "text": [
      "Entry time12:45\n",
      "Exit time01:20\n",
      "9\n"
     ]
    }
   ],
   "source": [
    "def solution(a,b):\n",
    "    en_rate = 2\n",
    "    pr_rate_1 = 3\n",
    "    pr_rate_2 = 4\n",
    "    \n",
    "    if a[1] == b[1]:\n",
    "        out = en_rate + (1 * pr_rate_1)\n",
    "        print(out)\n",
    "        \n",
    "    else:\n",
    "        \n",
    "    \n",
    "        a_0 = ''.join(filter(str.isalnum, a))\n",
    "        a_0 = int(a_0)\n",
    "        #print(a_0)\n",
    "\n",
    "        b_0 = ''.join(filter(str.isalnum, b))\n",
    "        b_0 = int(b_0)\n",
    "        #print(b_0)\n",
    "\n",
    "        aa = int(a[3:])\n",
    "        #print(aa)\n",
    "\n",
    "        a_1 = 100 - aa\n",
    "        #print(a_1)\n",
    "\n",
    "        aa_1 = a_0 + a_1\n",
    "        #print(aa_1)\n",
    "\n",
    "        bb_1 = b_0 - aa_1\n",
    "        #print(bb_1)\n",
    "\n",
    "        if len(str(bb_1)) == 1:\n",
    "            out = en_rate + (1 * pr_rate_1) + (1 * pr_rate_2 )\n",
    "            print(out)\n",
    "\n",
    "        else:\n",
    "\n",
    "\n",
    "            if len(str(bb_1)) == 3:\n",
    "\n",
    "\n",
    "                bb_2 = str(bb_1)\n",
    "                bb_3 = int(bb_2[0]) + 1\n",
    "                #print(bb_3)\n",
    "                \n",
    "                out = en_rate + (1 * pr_rate_1) + (bb_3 * pr_rate_2 )\n",
    "                print(out)\n",
    "\n",
    "            else:\n",
    "                bb_2 = str(bb_1)\n",
    "                bb_3 = int(bb_2[0:2]) + 1\n",
    "                #print(bb_3)\n",
    "                \n",
    "                out = en_rate + (1 * pr_rate_1) + (1 * pr_rate_2 )\n",
    "                print(out)\n",
    "\n",
    "\n",
    "              \n",
    "solution(a = input('Entry time'), b = input('Exit time'))     \n",
    "    \n",
    "    \n",
    "    \n",
    "    \n",
    "    \n",
    "    "
   ]
  },
  {
   "cell_type": "code",
   "execution_count": null,
   "id": "fb7101f6",
   "metadata": {},
   "outputs": [],
   "source": []
  },
  {
   "cell_type": "code",
   "execution_count": 278,
   "id": "b7337ca3",
   "metadata": {},
   "outputs": [],
   "source": [
    "def split_num(num):    \n",
    "    \n",
    "    num_str = str(num)\n",
    "    num_list = [i for i in num_str]\n",
    "    #print(num_list)\n",
    "    num_lis_rev = num_list[::-1]\n",
    "    #print(num_lis_rev)\n",
    "    fin_out = []\n",
    "    f = 1\n",
    "    for x in range(len(num_lis_rev)):\n",
    "        ff = f * int(num_lis_rev[x])\n",
    "        fin_out.append(ff)\n",
    "        f = f * 10\n",
    "    print(fin_out[::-1])"
   ]
  },
  {
   "cell_type": "code",
   "execution_count": 282,
   "id": "bc794de2",
   "metadata": {},
   "outputs": [
    {
     "name": "stdout",
     "output_type": "stream",
     "text": [
      "[500, 20, 6]\n"
     ]
    }
   ],
   "source": [
    "split_num(526)"
   ]
  },
  {
   "cell_type": "code",
   "execution_count": 281,
   "id": "f9a8f488",
   "metadata": {},
   "outputs": [
    {
     "name": "stdout",
     "output_type": "stream",
     "text": [
      "[100000, 80000, 5000, 400, 80, 9]\n"
     ]
    }
   ],
   "source": [
    "split_num(185489)"
   ]
  },
  {
   "cell_type": "code",
   "execution_count": null,
   "id": "dbb077b0",
   "metadata": {},
   "outputs": [],
   "source": []
  },
  {
   "cell_type": "code",
   "execution_count": null,
   "id": "06582f7f",
   "metadata": {},
   "outputs": [],
   "source": []
  },
  {
   "cell_type": "code",
   "execution_count": null,
   "id": "61f88f8b",
   "metadata": {},
   "outputs": [],
   "source": []
  },
  {
   "cell_type": "code",
   "execution_count": 70,
   "id": "483c244c",
   "metadata": {},
   "outputs": [],
   "source": [
    "def isIsomorphic(str1, str2):          \n",
    "    dict_str1 = {}\n",
    "    dict_str2 = {}\n",
    "    \n",
    "    for i, value in enumerate(str1):\n",
    "        dict_str1[value] = dict_str1.get(value, []) + [i]\n",
    "            \n",
    "    for j, value in enumerate(str2):\n",
    "        dict_str2[value] = dict_str2.get(value, []) + [j]\n",
    "    \n",
    "    if sorted(dict_str1.values()) == sorted(dict_str2.values()):\n",
    "        return True\n",
    "    else:\n",
    "        return False"
   ]
  },
  {
   "cell_type": "code",
   "execution_count": 71,
   "id": "db24df5a",
   "metadata": {},
   "outputs": [
    {
     "name": "stdout",
     "output_type": "stream",
     "text": [
      "False\n"
     ]
    }
   ],
   "source": [
    "print(isIsomorphic(\"foo\", \"bar\")); "
   ]
  },
  {
   "cell_type": "code",
   "execution_count": null,
   "id": "18eab52f",
   "metadata": {},
   "outputs": [],
   "source": []
  }
 ],
 "metadata": {
  "kernelspec": {
   "display_name": "Python 3 (ipykernel)",
   "language": "python",
   "name": "python3"
  },
  "language_info": {
   "codemirror_mode": {
    "name": "ipython",
    "version": 3
   },
   "file_extension": ".py",
   "mimetype": "text/x-python",
   "name": "python",
   "nbconvert_exporter": "python",
   "pygments_lexer": "ipython3",
   "version": "3.8.10"
  }
 },
 "nbformat": 4,
 "nbformat_minor": 5
}
