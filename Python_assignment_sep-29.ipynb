{
 "cells": [
  {
   "cell_type": "code",
   "execution_count": 1,
   "id": "c02880bc",
   "metadata": {},
   "outputs": [],
   "source": [
    "#QUESTION NUMBER 2"
   ]
  },
  {
   "cell_type": "code",
   "execution_count": 7,
   "id": "6d3ff8a7",
   "metadata": {},
   "outputs": [],
   "source": [
    "def solution(x,y,z):\n",
    "    for i in range(x,y):\n",
    "        if i % z == 0:\n",
    "            print(i,end = '   ')"
   ]
  },
  {
   "cell_type": "code",
   "execution_count": 8,
   "id": "50a3e67c",
   "metadata": {},
   "outputs": [
    {
     "name": "stdout",
     "output_type": "stream",
     "text": [
      "8   12   16   20   24   28   32   36   40   44   48   "
     ]
    }
   ],
   "source": [
    "solution(8,50,4)"
   ]
  },
  {
   "cell_type": "code",
   "execution_count": 9,
   "id": "4ba493e3",
   "metadata": {},
   "outputs": [
    {
     "name": "stdout",
     "output_type": "stream",
     "text": [
      "8   16   24   32   40   48   56   64   72   80   88   "
     ]
    }
   ],
   "source": [
    "solution(2,90,8)"
   ]
  },
  {
   "cell_type": "code",
   "execution_count": null,
   "id": "7e44e38a",
   "metadata": {},
   "outputs": [],
   "source": []
  },
  {
   "cell_type": "code",
   "execution_count": null,
   "id": "da8aa69f",
   "metadata": {},
   "outputs": [],
   "source": []
  },
  {
   "cell_type": "code",
   "execution_count": 2,
   "id": "dd998941",
   "metadata": {},
   "outputs": [],
   "source": [
    "# Question Number 3\n"
   ]
  },
  {
   "cell_type": "code",
   "execution_count": 73,
   "id": "32652d4e",
   "metadata": {},
   "outputs": [],
   "source": [
    "def factorial(x):\n",
    "    a = []\n",
    "    for i in range(x,0,-1):\n",
    "        #print(i)\n",
    "        a.append(i)\n",
    "    print(a)\n",
    "    c = []\n",
    "    for j in a:\n",
    "        b = math.factorial(j)\n",
    "        c.append(b)\n",
    "    print(c)\n",
    "    prod = 1\n",
    "    for k in c:\n",
    "        prod = prod * k\n",
    "    print(prod)"
   ]
  },
  {
   "cell_type": "code",
   "execution_count": 74,
   "id": "12970692",
   "metadata": {},
   "outputs": [
    {
     "name": "stdout",
     "output_type": "stream",
     "text": [
      "[4, 3, 2, 1]\n",
      "[24, 6, 2, 1]\n",
      "288\n"
     ]
    }
   ],
   "source": [
    "factorial(4)"
   ]
  },
  {
   "cell_type": "code",
   "execution_count": 75,
   "id": "9c43be1c",
   "metadata": {},
   "outputs": [
    {
     "name": "stdout",
     "output_type": "stream",
     "text": [
      "[8, 7, 6, 5, 4, 3, 2, 1]\n",
      "[40320, 5040, 720, 120, 24, 6, 2, 1]\n",
      "5056584744960000\n"
     ]
    }
   ],
   "source": [
    "factorial(8)"
   ]
  },
  {
   "cell_type": "code",
   "execution_count": 56,
   "id": "0cd492d8",
   "metadata": {},
   "outputs": [
    {
     "data": {
      "text/plain": [
       "120"
      ]
     },
     "execution_count": 56,
     "metadata": {},
     "output_type": "execute_result"
    }
   ],
   "source": [
    "math.factorial(5)"
   ]
  },
  {
   "cell_type": "code",
   "execution_count": null,
   "id": "16422071",
   "metadata": {},
   "outputs": [],
   "source": []
  },
  {
   "cell_type": "code",
   "execution_count": null,
   "id": "58ac8521",
   "metadata": {},
   "outputs": [],
   "source": []
  },
  {
   "cell_type": "code",
   "execution_count": 3,
   "id": "60cafc56",
   "metadata": {},
   "outputs": [],
   "source": [
    "#Question Number - 5\n"
   ]
  },
  {
   "cell_type": "code",
   "execution_count": 77,
   "id": "a46cfc67",
   "metadata": {},
   "outputs": [],
   "source": [
    "\n",
    "def numbers(a,b):\n",
    "    \n",
    "    #addition = 'Addition of two numbers :' , a + b\n",
    "    print('Addition of two numbers :' , a + b)\n",
    "    #substraction = 'Substraction of two numbers :' , a - b\n",
    "    print('Substraction of two numbers :' , a - b)\n",
    "    #multiplication = 'Multiplication of two numbers :', a * b\n",
    "    print('Multiplication of two numbers :', a * b)\n",
    "    if b == 0:\n",
    "        #division = 'Division of two numbers :',-1\n",
    "        print('Division of two numbers :',-1)\n",
    "    else:\n",
    "        #division = 'Division of two numbers :', a / b\n",
    "        print('Division of two numbers :', int(a / b))\n",
    "    "
   ]
  },
  {
   "cell_type": "code",
   "execution_count": 78,
   "id": "6db7c8b9",
   "metadata": {},
   "outputs": [
    {
     "name": "stdout",
     "output_type": "stream",
     "text": [
      "Addition of two numbers : 8\n",
      "Substraction of two numbers : 2\n",
      "Multiplication of two numbers : 15\n",
      "Division of two numbers : 1\n"
     ]
    }
   ],
   "source": [
    "numbers(5,3)"
   ]
  },
  {
   "cell_type": "code",
   "execution_count": 72,
   "id": "150ffa9f",
   "metadata": {},
   "outputs": [
    {
     "name": "stdout",
     "output_type": "stream",
     "text": [
      "Addition of two numbers : 10\n",
      "Substraction of two numbers : 10\n",
      "Multiplication of two numbers : 0\n",
      "Division of two numbers : -1\n"
     ]
    }
   ],
   "source": [
    "numbers(10,0)"
   ]
  },
  {
   "cell_type": "code",
   "execution_count": null,
   "id": "4acaa6d4",
   "metadata": {},
   "outputs": [],
   "source": []
  },
  {
   "cell_type": "code",
   "execution_count": 4,
   "id": "786d815b",
   "metadata": {},
   "outputs": [],
   "source": [
    "#Question - 1\n"
   ]
  },
  {
   "cell_type": "code",
   "execution_count": 172,
   "id": "90df2c68",
   "metadata": {},
   "outputs": [],
   "source": [
    "def number(num):\n",
    "    a = bin(num)\n",
    "    print(a)\n",
    "    s = list(a)\n",
    "    ss = s[2:]\n",
    "    ff = []\n",
    "    for i in ss:\n",
    "        ff.append(int(i))\n",
    "\n",
    "    cnt = 0\n",
    "    res = 0\n",
    "\n",
    "    for i in range(0,len(ff)):\n",
    "        if ff[i] == 1:\n",
    "            cnt = 0\n",
    "\n",
    "        else:\n",
    "            cnt = cnt + 1\n",
    "            #print(cnt)\n",
    "            res = max(res,cnt)\n",
    "            #print(res)\n",
    "    print(res)"
   ]
  },
  {
   "cell_type": "code",
   "execution_count": 173,
   "id": "e1607f35",
   "metadata": {},
   "outputs": [
    {
     "name": "stdout",
     "output_type": "stream",
     "text": [
      "0b1100001101010110\n",
      "4\n"
     ]
    }
   ],
   "source": [
    "number(50006)"
   ]
  },
  {
   "cell_type": "code",
   "execution_count": 174,
   "id": "fba48a09",
   "metadata": {},
   "outputs": [
    {
     "name": "stdout",
     "output_type": "stream",
     "text": [
      "0b10000010001\n",
      "5\n"
     ]
    }
   ],
   "source": [
    "number(1041)"
   ]
  },
  {
   "cell_type": "code",
   "execution_count": null,
   "id": "280f8c27",
   "metadata": {},
   "outputs": [],
   "source": []
  },
  {
   "cell_type": "code",
   "execution_count": null,
   "id": "d2bb674c",
   "metadata": {},
   "outputs": [],
   "source": []
  },
  {
   "cell_type": "code",
   "execution_count": 5,
   "id": "35b44ed7",
   "metadata": {},
   "outputs": [],
   "source": [
    "# Question - 4"
   ]
  },
  {
   "cell_type": "code",
   "execution_count": 18,
   "id": "00de20ca",
   "metadata": {},
   "outputs": [],
   "source": [
    "from itertools import permutations\n",
    "\n",
    "def perm(x = [5,6,8]):\n",
    "    ff = permutations(x)\n",
    "    out = []\n",
    "    for i in ff:\n",
    "        #print(i)\n",
    "        out.append(i)\n",
    "    print(out)\n",
    "    print('Number of combination :', len(out))\n",
    "        \n",
    "    "
   ]
  },
  {
   "cell_type": "code",
   "execution_count": 19,
   "id": "df04f90b",
   "metadata": {},
   "outputs": [
    {
     "name": "stdout",
     "output_type": "stream",
     "text": [
      "[(5, 7, 8, 9), (5, 7, 9, 8), (5, 8, 7, 9), (5, 8, 9, 7), (5, 9, 7, 8), (5, 9, 8, 7), (7, 5, 8, 9), (7, 5, 9, 8), (7, 8, 5, 9), (7, 8, 9, 5), (7, 9, 5, 8), (7, 9, 8, 5), (8, 5, 7, 9), (8, 5, 9, 7), (8, 7, 5, 9), (8, 7, 9, 5), (8, 9, 5, 7), (8, 9, 7, 5), (9, 5, 7, 8), (9, 5, 8, 7), (9, 7, 5, 8), (9, 7, 8, 5), (9, 8, 5, 7), (9, 8, 7, 5)]\n",
      "Number of combination : 24\n"
     ]
    }
   ],
   "source": [
    "perm(x = [5,7,8,9])"
   ]
  },
  {
   "cell_type": "code",
   "execution_count": null,
   "id": "e1a83855",
   "metadata": {},
   "outputs": [],
   "source": []
  }
 ],
 "metadata": {
  "kernelspec": {
   "display_name": "Python 3 (ipykernel)",
   "language": "python",
   "name": "python3"
  },
  "language_info": {
   "codemirror_mode": {
    "name": "ipython",
    "version": 3
   },
   "file_extension": ".py",
   "mimetype": "text/x-python",
   "name": "python",
   "nbconvert_exporter": "python",
   "pygments_lexer": "ipython3",
   "version": "3.8.10"
  }
 },
 "nbformat": 4,
 "nbformat_minor": 5
}
