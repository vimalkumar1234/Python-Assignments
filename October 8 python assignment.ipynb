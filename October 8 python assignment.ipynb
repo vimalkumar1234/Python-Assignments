{
 "cells": [
  {
   "cell_type": "markdown",
   "id": "96a94616",
   "metadata": {},
   "source": [
    "# 2) Recursion: Reversible Inclusive List Ranges"
   ]
  },
  {
   "cell_type": "markdown",
   "id": "e7f3353e",
   "metadata": {},
   "source": [
    "# Write a function that, given the start and end values, returns an array containing all the numbers inclusive to that range."
   ]
  },
  {
   "cell_type": "code",
   "execution_count": 203,
   "id": "51a706bf",
   "metadata": {},
   "outputs": [],
   "source": [
    "def rec(x,y):\n",
    "    # When x is greater than y this condition exists i.e..(24,10)\n",
    "    if x >= y:\n",
    "            if x <= y+1:\n",
    "                return [x]\n",
    "            else:\n",
    "                c = rec(x , y+ 1) + [y+1]\n",
    "                c.append(y)\n",
    "            #to remove the duplicates set is used\n",
    "                c = list(set(c))\n",
    "                c.reverse()\n",
    "                return c\n",
    "    # When y is greater than x this condition exists i.e..(10,24)\n",
    "    else:\n",
    "        if y <= x-1:\n",
    "            return []\n",
    "        else:\n",
    "            return rec(x , y - 1) + [y]\n"
   ]
  },
  {
   "cell_type": "code",
   "execution_count": 206,
   "id": "a467a2d7",
   "metadata": {},
   "outputs": [
    {
     "data": {
      "text/plain": [
       "[1, 2, 3, 4, 5]"
      ]
     },
     "execution_count": 206,
     "metadata": {},
     "output_type": "execute_result"
    }
   ],
   "source": [
    "rec(1,5)"
   ]
  },
  {
   "cell_type": "code",
   "execution_count": 212,
   "id": "4575561c",
   "metadata": {},
   "outputs": [
    {
     "data": {
      "text/plain": [
       "[10, 11, 12, 13, 14, 15, 16, 17, 18, 19, 20]"
      ]
     },
     "execution_count": 212,
     "metadata": {},
     "output_type": "execute_result"
    }
   ],
   "source": [
    "rec(10,20)"
   ]
  },
  {
   "cell_type": "code",
   "execution_count": 213,
   "id": "a28cd8d4",
   "metadata": {},
   "outputs": [
    {
     "data": {
      "text/plain": [
       "[25, 24, 23, 22, 21, 20, 19, 18, 17, 16, 15, 14, 13, 12, 11, 10]"
      ]
     },
     "execution_count": 213,
     "metadata": {},
     "output_type": "execute_result"
    }
   ],
   "source": [
    "rec(25,10)"
   ]
  },
  {
   "cell_type": "code",
   "execution_count": null,
   "id": "96c33670",
   "metadata": {},
   "outputs": [],
   "source": []
  },
  {
   "cell_type": "markdown",
   "id": "d54de8c5",
   "metadata": {},
   "source": [
    "# 4)Next Largest Number"
   ]
  },
  {
   "cell_type": "markdown",
   "id": "e4ff5f11",
   "metadata": {},
   "source": [
    "# Write a function that returns the next number that can be created from the same digits as the input."
   ]
  },
  {
   "cell_type": "code",
   "execution_count": 430,
   "id": "4225eb9b",
   "metadata": {},
   "outputs": [],
   "source": [
    "def next_number(num):\n",
    "    # Converting number into string\n",
    "    \n",
    "    num_str = str(num)\n",
    "    \n",
    "    #Convert string into list\n",
    "    \n",
    "    number = []\n",
    "    for n in num_str:\n",
    "        number.append(int(n))\n",
    "\n",
    "    #Doing Permutations for swapping the maximum combinations of the number\n",
    "    \n",
    "    ff = permutations(number)\n",
    "    out = []\n",
    "    for k in ff:\n",
    "        #print(i)\n",
    "        out.append(k)\n",
    "    #print(out)\n",
    "\n",
    "    aa = []\n",
    "    for i in out:\n",
    "        #print(i)\n",
    "        for j in range(0,len(i)):\n",
    "            #print(i[j])\n",
    "            aa.append((i[j]))\n",
    "    #print(aa)\n",
    "    \n",
    "    b = ''.join(str(aa).split(','))\n",
    "    #print(b)\n",
    "    \n",
    "    x2 = b[1:-1]\n",
    "    x2 = x2.replace(' ','')\n",
    "    #print(x2)\n",
    "\n",
    "    v = len(number)\n",
    "    out1=[x2[y-v:y] for y in range(v, len(x2)+v,v)]\n",
    "    #print(out)\n",
    "\n",
    "    dd = []\n",
    "    for f in out1:\n",
    "        if f != '':\n",
    "            dd.append((f))\n",
    "    #print(dd)\n",
    "\n",
    "    for i in range(0,len(dd)):\n",
    "        dd[i] = int(dd[i])\n",
    "    #print(dd)\n",
    "\n",
    "    sort_out = sorted(dd)\n",
    "    #print(sort_out)\n",
    "\n",
    "    if num == sort_out[len(sort_out) - 1]:\n",
    "        print(num)\n",
    "\n",
    "\n",
    "    else:\n",
    "        index_val = sort_out.index(num)\n",
    "        fin_val = sort_out[index_val + 1]\n",
    "        print(fin_val)"
   ]
  },
  {
   "cell_type": "code",
   "execution_count": 431,
   "id": "7d6c8628",
   "metadata": {},
   "outputs": [
    {
     "name": "stdout",
     "output_type": "stream",
     "text": [
      "91\n"
     ]
    }
   ],
   "source": [
    "next_number(19)"
   ]
  },
  {
   "cell_type": "code",
   "execution_count": 432,
   "id": "8e8f00ca",
   "metadata": {},
   "outputs": [
    {
     "name": "stdout",
     "output_type": "stream",
     "text": [
      "4235\n"
     ]
    }
   ],
   "source": [
    "next_number(3542)"
   ]
  },
  {
   "cell_type": "code",
   "execution_count": 433,
   "id": "9c9a4897",
   "metadata": {},
   "outputs": [
    {
     "name": "stdout",
     "output_type": "stream",
     "text": [
      "5432\n"
     ]
    }
   ],
   "source": [
    "next_number(5432)"
   ]
  },
  {
   "cell_type": "code",
   "execution_count": 434,
   "id": "0497e90f",
   "metadata": {},
   "outputs": [
    {
     "name": "stdout",
     "output_type": "stream",
     "text": [
      "59348\n"
     ]
    }
   ],
   "source": [
    "next_number(58943)"
   ]
  },
  {
   "cell_type": "code",
   "execution_count": null,
   "id": "dbeddbb0",
   "metadata": {},
   "outputs": [],
   "source": []
  },
  {
   "cell_type": "markdown",
   "id": "07abb6fa",
   "metadata": {},
   "source": [
    "# 6)Validate Subsequences"
   ]
  },
  {
   "cell_type": "markdown",
   "id": "8235bb2d",
   "metadata": {},
   "source": [
    "# Given two non-empty lists, write a function that determines whether the second list is a subsequence of the first list."
   ]
  },
  {
   "cell_type": "code",
   "execution_count": 671,
   "id": "ea645b14",
   "metadata": {},
   "outputs": [],
   "source": [
    "def is_valid_subsequence(a,b):\n",
    "    #for i in b:\n",
    "    try:\n",
    "        for i in b:\n",
    "            index = a.index(i)\n",
    "            #print(index)\n",
    "            a = a[index+1:]\n",
    "            #print(a)\n",
    "        print('true')\n",
    "    except ValueError:\n",
    "        print('false')\n",
    "            \n",
    "            "
   ]
  },
  {
   "cell_type": "code",
   "execution_count": 672,
   "id": "64db9b33",
   "metadata": {},
   "outputs": [
    {
     "name": "stdout",
     "output_type": "stream",
     "text": [
      "false\n"
     ]
    }
   ],
   "source": [
    "is_valid_subsequence([1, 1, 6, 1],[1, 1, 1, 6])"
   ]
  },
  {
   "cell_type": "code",
   "execution_count": 673,
   "id": "b6273557",
   "metadata": {},
   "outputs": [
    {
     "name": "stdout",
     "output_type": "stream",
     "text": [
      "true\n"
     ]
    }
   ],
   "source": [
    "is_valid_subsequence([5, 1, 22, 25, 6, -1, 8, 10], [22, 25, 6])"
   ]
  },
  {
   "cell_type": "code",
   "execution_count": 674,
   "id": "61a68d13",
   "metadata": {},
   "outputs": [
    {
     "name": "stdout",
     "output_type": "stream",
     "text": [
      "true\n"
     ]
    }
   ],
   "source": [
    "is_valid_subsequence([1, 2, 3, 4], [2, 4])"
   ]
  },
  {
   "cell_type": "code",
   "execution_count": null,
   "id": "282b163e",
   "metadata": {},
   "outputs": [],
   "source": []
  },
  {
   "cell_type": "code",
   "execution_count": null,
   "id": "f957c4e7",
   "metadata": {},
   "outputs": [],
   "source": []
  },
  {
   "cell_type": "code",
   "execution_count": null,
   "id": "e683b6e8",
   "metadata": {},
   "outputs": [],
   "source": []
  },
  {
   "cell_type": "markdown",
   "id": "4eefa9bf",
   "metadata": {},
   "source": [
    "# 3)Recursion: Flatten the Curves"
   ]
  },
  {
   "cell_type": "code",
   "execution_count": 668,
   "id": "f823483a",
   "metadata": {},
   "outputs": [],
   "source": [
    "def flatten(S):\n",
    "    if S == []:\n",
    "        return S\n",
    "    if isinstance(S[0], list):\n",
    "        return flatten(S[0]) + flatten(S[1:])\n",
    "    return S[:1] + flatten(S[1:])\n"
   ]
  },
  {
   "cell_type": "code",
   "execution_count": 669,
   "id": "4bc4d084",
   "metadata": {},
   "outputs": [
    {
     "name": "stdout",
     "output_type": "stream",
     "text": [
      "Flattened list is:  [4666, 5394, 466, 'Saskia', 'DXTD', 'Lexi']\n"
     ]
    }
   ],
   "source": [
    "s=[[4666], [5394], [466], [[[\"Saskia\", [[[[[\"DXTD\"]], \"Lexi\"]]]]]]]\n",
    "print(\"Flattened list is: \",flatten(s))"
   ]
  },
  {
   "cell_type": "code",
   "execution_count": 670,
   "id": "233ad814",
   "metadata": {},
   "outputs": [
    {
     "data": {
      "text/plain": [
       "['deep', 'ocean', 'Marge', 'rase', 876]"
      ]
     },
     "execution_count": 670,
     "metadata": {},
     "output_type": "execute_result"
    }
   ],
   "source": [
    "flatten([[[\"deep\"], [[[\"ocean\"]]], [[\"Marge\"]], [\"rase\", 876]]])"
   ]
  },
  {
   "cell_type": "code",
   "execution_count": null,
   "id": "be6b41ea",
   "metadata": {},
   "outputs": [],
   "source": []
  },
  {
   "cell_type": "code",
   "execution_count": null,
   "id": "c03f5183",
   "metadata": {},
   "outputs": [],
   "source": []
  },
  {
   "cell_type": "markdown",
   "id": "1a92cbdf",
   "metadata": {},
   "source": [
    "# 1) Vowel Skewers"
   ]
  },
  {
   "cell_type": "code",
   "execution_count": 681,
   "id": "7d5f0ac8",
   "metadata": {},
   "outputs": [],
   "source": [
    "constonant = ['B','C','D','F','G','H','J','K','L','M','N','P','Q','R','S','T','V','W','X','Y','Z']\n",
    "def is_authentic_skewer(s):\n",
    "    if s[0] not in constonant or s[-1] not in constonant:\n",
    "        return False\n",
    "    d = 0\n",
    "    for i in range(1, len(s)):\n",
    "        if s[i].isalpha():\n",
    "            d = i - 1\n",
    "            break\n",
    "    if d == 0:\n",
    "        return False\n",
    "    s = s.split('-' * d)\n",
    "    for i in range(len(s) - 1):\n",
    "        if (s[i][0] == '-' or s[i+1][0] == '-') or (s[i] in constonant and s[i+1] in constonant):\n",
    "            return False\n",
    "    return True"
   ]
  },
  {
   "cell_type": "code",
   "execution_count": 682,
   "id": "0a2e49e0",
   "metadata": {},
   "outputs": [
    {
     "data": {
      "text/plain": [
       "True"
      ]
     },
     "execution_count": 682,
     "metadata": {},
     "output_type": "execute_result"
    }
   ],
   "source": [
    "is_authentic_skewer(\"B--A--N--A--N--A--S\")"
   ]
  },
  {
   "cell_type": "code",
   "execution_count": 683,
   "id": "6beff148",
   "metadata": {},
   "outputs": [
    {
     "data": {
      "text/plain": [
       "False"
      ]
     },
     "execution_count": 683,
     "metadata": {},
     "output_type": "execute_result"
    }
   ],
   "source": [
    "is_authentic_skewer(\"A--X--E\")"
   ]
  },
  {
   "cell_type": "code",
   "execution_count": null,
   "id": "9383eba8",
   "metadata": {},
   "outputs": [],
   "source": []
  },
  {
   "cell_type": "code",
   "execution_count": null,
   "id": "44a2bf2c",
   "metadata": {},
   "outputs": [],
   "source": []
  },
  {
   "cell_type": "code",
   "execution_count": null,
   "id": "ef22955e",
   "metadata": {},
   "outputs": [],
   "source": []
  },
  {
   "cell_type": "code",
   "execution_count": null,
   "id": "2f9f0def",
   "metadata": {},
   "outputs": [],
   "source": []
  }
 ],
 "metadata": {
  "kernelspec": {
   "display_name": "Python 3 (ipykernel)",
   "language": "python",
   "name": "python3"
  },
  "language_info": {
   "codemirror_mode": {
    "name": "ipython",
    "version": 3
   },
   "file_extension": ".py",
   "mimetype": "text/x-python",
   "name": "python",
   "nbconvert_exporter": "python",
   "pygments_lexer": "ipython3",
   "version": "3.8.10"
  }
 },
 "nbformat": 4,
 "nbformat_minor": 5
}
