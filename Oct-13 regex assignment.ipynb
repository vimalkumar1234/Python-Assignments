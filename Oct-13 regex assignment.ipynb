{
 "cells": [
  {
   "cell_type": "markdown",
   "id": "12cfc975",
   "metadata": {},
   "source": [
    "# Marks using regex"
   ]
  },
  {
   "cell_type": "code",
   "execution_count": 85,
   "id": "bf00cc18",
   "metadata": {},
   "outputs": [],
   "source": [
    "name_marks = 'Vishnu marks in English:79\\nRaj marks in Maths:85\\nram marks in science:99 '"
   ]
  },
  {
   "cell_type": "code",
   "execution_count": 86,
   "id": "67e38c53",
   "metadata": {},
   "outputs": [
    {
     "name": "stdout",
     "output_type": "stream",
     "text": [
      "Vishnu marks in English:79\n",
      "Raj marks in Maths:85\n",
      "ram marks in science:99 \n"
     ]
    }
   ],
   "source": [
    "print(name_marks)"
   ]
  },
  {
   "cell_type": "markdown",
   "id": "4a9fc489",
   "metadata": {},
   "source": [
    "# Saving the string in text file"
   ]
  },
  {
   "cell_type": "code",
   "execution_count": 87,
   "id": "0208cf0e",
   "metadata": {},
   "outputs": [],
   "source": [
    "with open('marks.txt', 'w') as f:\n",
    "    f.write(name_marks)\n",
    "    "
   ]
  },
  {
   "cell_type": "markdown",
   "id": "0cdb7dc3",
   "metadata": {},
   "source": [
    "# Reading and matching the marks in text file"
   ]
  },
  {
   "cell_type": "code",
   "execution_count": 88,
   "id": "9b832d70",
   "metadata": {},
   "outputs": [
    {
     "name": "stdout",
     "output_type": "stream",
     "text": [
      "['English:79']\n",
      "['Maths:85']\n",
      "['science:99']\n"
     ]
    }
   ],
   "source": [
    "with open('marks.txt', 'r') as f:\n",
    "    #f.write(name_marks)\n",
    "    for line in f:\n",
    "        #print(line)\n",
    "        regex_marks = re.findall('\\w+:\\d{2}',line)\n",
    "        print(regex_marks)"
   ]
  },
  {
   "cell_type": "code",
   "execution_count": null,
   "id": "4af4ca09",
   "metadata": {},
   "outputs": [],
   "source": []
  },
  {
   "cell_type": "markdown",
   "id": "6fea71c0",
   "metadata": {},
   "source": [
    "# time using regex"
   ]
  },
  {
   "cell_type": "code",
   "execution_count": 65,
   "id": "56b428f4",
   "metadata": {},
   "outputs": [],
   "source": [
    "ram_timings = 'Ram woke at 8.00 AM\\nand have lunch at 1.00 PM\\nand sleeps at 10.30 PM'"
   ]
  },
  {
   "cell_type": "code",
   "execution_count": 66,
   "id": "f2d6feda",
   "metadata": {},
   "outputs": [
    {
     "name": "stdout",
     "output_type": "stream",
     "text": [
      "Ram woke at 8.00 AM\n",
      "and have lunch at 1.00 PM\n",
      "and sleeps at 10.30 PM\n"
     ]
    }
   ],
   "source": [
    "print(ram_timings)"
   ]
  },
  {
   "cell_type": "markdown",
   "id": "b957c5d1",
   "metadata": {},
   "source": [
    "# Saving the text file"
   ]
  },
  {
   "cell_type": "code",
   "execution_count": 69,
   "id": "61dd3db4",
   "metadata": {},
   "outputs": [],
   "source": [
    "with open('time.txt', 'w') as f:\n",
    "    f.write(ram_timings)"
   ]
  },
  {
   "cell_type": "markdown",
   "id": "86bc59c6",
   "metadata": {},
   "source": [
    "# Reading and matching the time in text file"
   ]
  },
  {
   "cell_type": "code",
   "execution_count": 89,
   "id": "d1e7c018",
   "metadata": {},
   "outputs": [
    {
     "name": "stdout",
     "output_type": "stream",
     "text": [
      "['8.00 AM']\n",
      "['1.00 PM']\n",
      "['10.30 PM']\n"
     ]
    }
   ],
   "source": [
    "with open('time.txt','r') as f:\n",
    "    for line in f:\n",
    "        #print(line)\n",
    "        time_alone = re.findall('\\d+\\.\\d{2}\\s\\w+',line)\n",
    "        print(time_alone)"
   ]
  },
  {
   "cell_type": "code",
   "execution_count": null,
   "id": "f24b7779",
   "metadata": {},
   "outputs": [],
   "source": []
  },
  {
   "cell_type": "markdown",
   "id": "bc8c1243",
   "metadata": {},
   "source": [
    "# Password\n"
   ]
  },
  {
   "cell_type": "code",
   "execution_count": 90,
   "id": "25bc5e5c",
   "metadata": {},
   "outputs": [
    {
     "name": "stdout",
     "output_type": "stream",
     "text": [
      "Enter the Password :vimal@123\n",
      "Password is Not Valid\n"
     ]
    }
   ],
   "source": [
    "import re\n",
    "password = input('Enter the Password :')\n",
    "while True:\n",
    "    if len(password) < 8:\n",
    "        count = -1\n",
    "        break\n",
    "    elif not re.search('[A-Z]',password):\n",
    "        count = -1\n",
    "        break\n",
    "    elif not re.search('[a-z]',password):\n",
    "        count = -1\n",
    "        break\n",
    "    elif not re.search('[!@#$%^&*(){}?><]',password):\n",
    "        count = -1\n",
    "        break\n",
    "    elif not re.search('[0-9]',password):\n",
    "        count = -1\n",
    "        break\n",
    "    else:\n",
    "        count = 0\n",
    "        print('Password is Valid')\n",
    "        break\n",
    "    \n",
    "        \n",
    "if count == -1:\n",
    "    print('Password is Not Valid')"
   ]
  },
  {
   "cell_type": "code",
   "execution_count": 92,
   "id": "7178db86",
   "metadata": {},
   "outputs": [
    {
     "name": "stdout",
     "output_type": "stream",
     "text": [
      "Enter the Password :Vimalkumar@1234\n",
      "Password is Valid\n"
     ]
    }
   ],
   "source": [
    "import re\n",
    "password = input('Enter the Password :')\n",
    "while True:\n",
    "    if len(password) < 8:\n",
    "        count = -1\n",
    "        break\n",
    "    elif not re.search('[A-Z]',password):\n",
    "        count = -1\n",
    "        break\n",
    "    elif not re.search('[a-z]',password):\n",
    "        count = -1\n",
    "        break\n",
    "    elif not re.search('[!@#$%^&*(){}?><]',password):\n",
    "        count = -1\n",
    "        break\n",
    "    elif not re.search('[0-9]',password):\n",
    "        count = -1\n",
    "        break\n",
    "    else:\n",
    "        count = 0\n",
    "        print('Password is Valid')\n",
    "        break\n",
    "    \n",
    "        \n",
    "if count == -1:\n",
    "    print('Password is Not Valid')"
   ]
  },
  {
   "cell_type": "code",
   "execution_count": null,
   "id": "8ef21d34",
   "metadata": {},
   "outputs": [],
   "source": []
  },
  {
   "cell_type": "code",
   "execution_count": null,
   "id": "d63f7a78",
   "metadata": {},
   "outputs": [],
   "source": []
  }
 ],
 "metadata": {
  "kernelspec": {
   "display_name": "Python 3 (ipykernel)",
   "language": "python",
   "name": "python3"
  },
  "language_info": {
   "codemirror_mode": {
    "name": "ipython",
    "version": 3
   },
   "file_extension": ".py",
   "mimetype": "text/x-python",
   "name": "python",
   "nbconvert_exporter": "python",
   "pygments_lexer": "ipython3",
   "version": "3.8.10"
  }
 },
 "nbformat": 4,
 "nbformat_minor": 5
}
